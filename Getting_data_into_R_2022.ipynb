{
 "cells": [
  {
   "cell_type": "code",
   "execution_count": 1,
   "id": "76ea086c",
   "metadata": {
    "scrolled": true,
    "vscode": {
     "languageId": "r"
    }
   },
   "outputs": [
    {
     "name": "stderr",
     "output_type": "stream",
     "text": [
      "── \u001b[1mAttaching packages\u001b[22m ─────────────────────────────────────── tidyverse 1.3.2 ──\n",
      "\u001b[32m✔\u001b[39m \u001b[34mggplot2\u001b[39m 3.3.6      \u001b[32m✔\u001b[39m \u001b[34mpurrr  \u001b[39m 0.3.4 \n",
      "\u001b[32m✔\u001b[39m \u001b[34mtibble \u001b[39m 3.1.8      \u001b[32m✔\u001b[39m \u001b[34mdplyr  \u001b[39m 1.0.10\n",
      "\u001b[32m✔\u001b[39m \u001b[34mtidyr  \u001b[39m 1.2.1      \u001b[32m✔\u001b[39m \u001b[34mstringr\u001b[39m 1.4.1 \n",
      "\u001b[32m✔\u001b[39m \u001b[34mreadr  \u001b[39m 2.1.2      \u001b[32m✔\u001b[39m \u001b[34mforcats\u001b[39m 0.5.2 \n",
      "── \u001b[1mConflicts\u001b[22m ────────────────────────────────────────── tidyverse_conflicts() ──\n",
      "\u001b[31m✖\u001b[39m \u001b[34mdplyr\u001b[39m::\u001b[32mfilter()\u001b[39m masks \u001b[34mstats\u001b[39m::filter()\n",
      "\u001b[31m✖\u001b[39m \u001b[34mdplyr\u001b[39m::\u001b[32mlag()\u001b[39m    masks \u001b[34mstats\u001b[39m::lag()\n"
     ]
    }
   ],
   "source": [
    "library(tidyverse)\n"
   ]
  },
  {
   "cell_type": "code",
   "execution_count": 2,
   "id": "24f58493",
   "metadata": {
    "vscode": {
     "languageId": "r"
    }
   },
   "outputs": [
    {
     "name": "stderr",
     "output_type": "stream",
     "text": [
      "\u001b[1mRows: \u001b[22m\u001b[34m17897\u001b[39m \u001b[1mColumns: \u001b[22m\u001b[34m9\u001b[39m\n",
      "\u001b[36m──\u001b[39m \u001b[1mColumn specification\u001b[22m \u001b[36m────────────────────────────────────────────────────────\u001b[39m\n",
      "\u001b[1mDelimiter:\u001b[22m \",\"\n",
      "\u001b[32mdbl\u001b[39m (9): 140.5625, 55.68378214, -0.234571412, -0.699648398, 3.199832776, 19....\n",
      "\n",
      "\u001b[36mℹ\u001b[39m Use `spec()` to retrieve the full column specification for this data.\n",
      "\u001b[36mℹ\u001b[39m Specify the column types or set `show_col_types = FALSE` to quiet this message.\n"
     ]
    }
   ],
   "source": [
    "HTRU2 <- read_csv(\"HTRU2/HTRU_2.csv\")\n"
   ]
  },
  {
   "cell_type": "code",
   "execution_count": 3,
   "id": "6dd2e7cd",
   "metadata": {
    "vscode": {
     "languageId": "r"
    }
   },
   "outputs": [],
   "source": [
    "names(HTRU2) <- c(\"Mean_IP\", \"SD_IP\", \"EK_IP\", \"SKW_IP\", \"Mean_DMSNR\", \"SD_DMSNR\", \"EK_DMSNR\", \"SKW_DMSNR\", \"Class\")\n"
   ]
  },
  {
   "cell_type": "code",
   "execution_count": 4,
   "id": "133ac5de",
   "metadata": {
    "vscode": {
     "languageId": "r"
    }
   },
   "outputs": [
    {
     "data": {
      "text/html": [
       "<style>\n",
       ".list-inline {list-style: none; margin:0; padding: 0}\n",
       ".list-inline>li {display: inline-block}\n",
       ".list-inline>li:not(:last-child)::after {content: \"\\00b7\"; padding: 0 .5ex}\n",
       "</style>\n",
       "<ol class=list-inline><li>'spec_tbl_df'</li><li>'tbl_df'</li><li>'tbl'</li><li>'data.frame'</li></ol>\n"
      ],
      "text/latex": [
       "\\begin{enumerate*}\n",
       "\\item 'spec\\_tbl\\_df'\n",
       "\\item 'tbl\\_df'\n",
       "\\item 'tbl'\n",
       "\\item 'data.frame'\n",
       "\\end{enumerate*}\n"
      ],
      "text/markdown": [
       "1. 'spec_tbl_df'\n",
       "2. 'tbl_df'\n",
       "3. 'tbl'\n",
       "4. 'data.frame'\n",
       "\n",
       "\n"
      ],
      "text/plain": [
       "[1] \"spec_tbl_df\" \"tbl_df\"      \"tbl\"         \"data.frame\" "
      ]
     },
     "metadata": {},
     "output_type": "display_data"
    }
   ],
   "source": [
    "class(HTRU2) # Specific to General\n"
   ]
  },
  {
   "cell_type": "code",
   "execution_count": 5,
   "id": "e28b378b",
   "metadata": {
    "vscode": {
     "languageId": "r"
    }
   },
   "outputs": [
    {
     "data": {
      "text/html": [
       "<table class=\"dataframe\">\n",
       "<caption>A tibble: 6 × 9</caption>\n",
       "<thead>\n",
       "\t<tr><th scope=col>Mean_IP</th><th scope=col>SD_IP</th><th scope=col>EK_IP</th><th scope=col>SKW_IP</th><th scope=col>Mean_DMSNR</th><th scope=col>SD_DMSNR</th><th scope=col>EK_DMSNR</th><th scope=col>SKW_DMSNR</th><th scope=col>Class</th></tr>\n",
       "\t<tr><th scope=col>&lt;dbl&gt;</th><th scope=col>&lt;dbl&gt;</th><th scope=col>&lt;dbl&gt;</th><th scope=col>&lt;dbl&gt;</th><th scope=col>&lt;dbl&gt;</th><th scope=col>&lt;dbl&gt;</th><th scope=col>&lt;dbl&gt;</th><th scope=col>&lt;dbl&gt;</th><th scope=col>&lt;dbl&gt;</th></tr>\n",
       "</thead>\n",
       "<tbody>\n",
       "\t<tr><td>102.50781</td><td>58.88243</td><td> 0.46531815</td><td>-0.5150879</td><td>1.6772575</td><td>14.860146</td><td>10.576487</td><td>127.39358</td><td>0</td></tr>\n",
       "\t<tr><td>103.01562</td><td>39.34165</td><td> 0.32332837</td><td> 1.0511644</td><td>3.1212375</td><td>21.744669</td><td> 7.735822</td><td> 63.17191</td><td>0</td></tr>\n",
       "\t<tr><td>136.75000</td><td>57.17845</td><td>-0.06841464</td><td>-0.6362384</td><td>3.6429766</td><td>20.959280</td><td> 6.896499</td><td> 53.59366</td><td>0</td></tr>\n",
       "\t<tr><td> 88.72656</td><td>40.67223</td><td> 0.60086608</td><td> 1.1234917</td><td>1.1789298</td><td>11.468720</td><td>14.269573</td><td>252.56731</td><td>0</td></tr>\n",
       "\t<tr><td> 93.57031</td><td>46.69811</td><td> 0.53190485</td><td> 0.4167211</td><td>1.6362876</td><td>14.545074</td><td>10.621748</td><td>131.39400</td><td>0</td></tr>\n",
       "\t<tr><td>119.48438</td><td>48.76506</td><td> 0.03146022</td><td>-0.1121676</td><td>0.9991639</td><td> 9.279612</td><td>19.206230</td><td>479.75657</td><td>0</td></tr>\n",
       "</tbody>\n",
       "</table>\n"
      ],
      "text/latex": [
       "A tibble: 6 × 9\n",
       "\\begin{tabular}{lllllllll}\n",
       " Mean\\_IP & SD\\_IP & EK\\_IP & SKW\\_IP & Mean\\_DMSNR & SD\\_DMSNR & EK\\_DMSNR & SKW\\_DMSNR & Class\\\\\n",
       " <dbl> & <dbl> & <dbl> & <dbl> & <dbl> & <dbl> & <dbl> & <dbl> & <dbl>\\\\\n",
       "\\hline\n",
       "\t 102.50781 & 58.88243 &  0.46531815 & -0.5150879 & 1.6772575 & 14.860146 & 10.576487 & 127.39358 & 0\\\\\n",
       "\t 103.01562 & 39.34165 &  0.32332837 &  1.0511644 & 3.1212375 & 21.744669 &  7.735822 &  63.17191 & 0\\\\\n",
       "\t 136.75000 & 57.17845 & -0.06841464 & -0.6362384 & 3.6429766 & 20.959280 &  6.896499 &  53.59366 & 0\\\\\n",
       "\t  88.72656 & 40.67223 &  0.60086608 &  1.1234917 & 1.1789298 & 11.468720 & 14.269573 & 252.56731 & 0\\\\\n",
       "\t  93.57031 & 46.69811 &  0.53190485 &  0.4167211 & 1.6362876 & 14.545074 & 10.621748 & 131.39400 & 0\\\\\n",
       "\t 119.48438 & 48.76506 &  0.03146022 & -0.1121676 & 0.9991639 &  9.279612 & 19.206230 & 479.75657 & 0\\\\\n",
       "\\end{tabular}\n"
      ],
      "text/markdown": [
       "\n",
       "A tibble: 6 × 9\n",
       "\n",
       "| Mean_IP &lt;dbl&gt; | SD_IP &lt;dbl&gt; | EK_IP &lt;dbl&gt; | SKW_IP &lt;dbl&gt; | Mean_DMSNR &lt;dbl&gt; | SD_DMSNR &lt;dbl&gt; | EK_DMSNR &lt;dbl&gt; | SKW_DMSNR &lt;dbl&gt; | Class &lt;dbl&gt; |\n",
       "|---|---|---|---|---|---|---|---|---|\n",
       "| 102.50781 | 58.88243 |  0.46531815 | -0.5150879 | 1.6772575 | 14.860146 | 10.576487 | 127.39358 | 0 |\n",
       "| 103.01562 | 39.34165 |  0.32332837 |  1.0511644 | 3.1212375 | 21.744669 |  7.735822 |  63.17191 | 0 |\n",
       "| 136.75000 | 57.17845 | -0.06841464 | -0.6362384 | 3.6429766 | 20.959280 |  6.896499 |  53.59366 | 0 |\n",
       "|  88.72656 | 40.67223 |  0.60086608 |  1.1234917 | 1.1789298 | 11.468720 | 14.269573 | 252.56731 | 0 |\n",
       "|  93.57031 | 46.69811 |  0.53190485 |  0.4167211 | 1.6362876 | 14.545074 | 10.621748 | 131.39400 | 0 |\n",
       "| 119.48438 | 48.76506 |  0.03146022 | -0.1121676 | 0.9991639 |  9.279612 | 19.206230 | 479.75657 | 0 |\n",
       "\n"
      ],
      "text/plain": [
       "  Mean_IP   SD_IP    EK_IP       SKW_IP     Mean_DMSNR SD_DMSNR  EK_DMSNR \n",
       "1 102.50781 58.88243  0.46531815 -0.5150879 1.6772575  14.860146 10.576487\n",
       "2 103.01562 39.34165  0.32332837  1.0511644 3.1212375  21.744669  7.735822\n",
       "3 136.75000 57.17845 -0.06841464 -0.6362384 3.6429766  20.959280  6.896499\n",
       "4  88.72656 40.67223  0.60086608  1.1234917 1.1789298  11.468720 14.269573\n",
       "5  93.57031 46.69811  0.53190485  0.4167211 1.6362876  14.545074 10.621748\n",
       "6 119.48438 48.76506  0.03146022 -0.1121676 0.9991639   9.279612 19.206230\n",
       "  SKW_DMSNR Class\n",
       "1 127.39358 0    \n",
       "2  63.17191 0    \n",
       "3  53.59366 0    \n",
       "4 252.56731 0    \n",
       "5 131.39400 0    \n",
       "6 479.75657 0    "
      ]
     },
     "metadata": {},
     "output_type": "display_data"
    }
   ],
   "source": [
    "head(HTRU2)\n"
   ]
  },
  {
   "cell_type": "markdown",
   "id": "3b34d7d1",
   "metadata": {},
   "source": [
    "# Vector\n"
   ]
  },
  {
   "cell_type": "code",
   "execution_count": 6,
   "id": "6c44f900",
   "metadata": {
    "vscode": {
     "languageId": "r"
    }
   },
   "outputs": [],
   "source": [
    "Lengths_A <- c(52, 51, 60, 64, 69, 74, 78, 84, 86, 96, 104, 112, 118, 125, 132, 135)\n"
   ]
  },
  {
   "cell_type": "code",
   "execution_count": 7,
   "id": "14e6ec35",
   "metadata": {
    "vscode": {
     "languageId": "r"
    }
   },
   "outputs": [
    {
     "data": {
      "text/html": [
       "'numeric'"
      ],
      "text/latex": [
       "'numeric'"
      ],
      "text/markdown": [
       "'numeric'"
      ],
      "text/plain": [
       "[1] \"numeric\""
      ]
     },
     "metadata": {},
     "output_type": "display_data"
    }
   ],
   "source": [
    "mode(Lengths_A)\n"
   ]
  },
  {
   "cell_type": "code",
   "execution_count": 8,
   "id": "26b5f0ea",
   "metadata": {
    "vscode": {
     "languageId": "r"
    }
   },
   "outputs": [
    {
     "data": {
      "text/html": [
       "'numeric'"
      ],
      "text/latex": [
       "'numeric'"
      ],
      "text/markdown": [
       "'numeric'"
      ],
      "text/plain": [
       "[1] \"numeric\""
      ]
     },
     "metadata": {},
     "output_type": "display_data"
    }
   ],
   "source": [
    "class(Lengths_A)\n"
   ]
  },
  {
   "cell_type": "code",
   "execution_count": 9,
   "id": "5c154ddb",
   "metadata": {
    "vscode": {
     "languageId": "r"
    }
   },
   "outputs": [
    {
     "data": {
      "text/html": [
       "52"
      ],
      "text/latex": [
       "52"
      ],
      "text/markdown": [
       "52"
      ],
      "text/plain": [
       "[1] 52"
      ]
     },
     "metadata": {},
     "output_type": "display_data"
    }
   ],
   "source": [
    "Lengths_A[1]\n"
   ]
  },
  {
   "cell_type": "code",
   "execution_count": 10,
   "id": "c7045dbe",
   "metadata": {
    "vscode": {
     "languageId": "r"
    }
   },
   "outputs": [
    {
     "data": {
      "text/html": [
       "<style>\n",
       ".list-inline {list-style: none; margin:0; padding: 0}\n",
       ".list-inline>li {display: inline-block}\n",
       ".list-inline>li:not(:last-child)::after {content: \"\\00b7\"; padding: 0 .5ex}\n",
       "</style>\n",
       "<ol class=list-inline><li>53</li><li>52</li><li>61</li><li>65</li><li>70</li><li>75</li><li>79</li><li>85</li><li>87</li><li>97</li><li>105</li><li>113</li><li>119</li><li>126</li><li>133</li><li>136</li></ol>\n"
      ],
      "text/latex": [
       "\\begin{enumerate*}\n",
       "\\item 53\n",
       "\\item 52\n",
       "\\item 61\n",
       "\\item 65\n",
       "\\item 70\n",
       "\\item 75\n",
       "\\item 79\n",
       "\\item 85\n",
       "\\item 87\n",
       "\\item 97\n",
       "\\item 105\n",
       "\\item 113\n",
       "\\item 119\n",
       "\\item 126\n",
       "\\item 133\n",
       "\\item 136\n",
       "\\end{enumerate*}\n"
      ],
      "text/markdown": [
       "1. 53\n",
       "2. 52\n",
       "3. 61\n",
       "4. 65\n",
       "5. 70\n",
       "6. 75\n",
       "7. 79\n",
       "8. 85\n",
       "9. 87\n",
       "10. 97\n",
       "11. 105\n",
       "12. 113\n",
       "13. 119\n",
       "14. 126\n",
       "15. 133\n",
       "16. 136\n",
       "\n",
       "\n"
      ],
      "text/plain": [
       " [1]  53  52  61  65  70  75  79  85  87  97 105 113 119 126 133 136"
      ]
     },
     "metadata": {},
     "output_type": "display_data"
    }
   ],
   "source": [
    "Lengths_A + rep(1, 16) # Repeat +1 16 times and apply to each index\n"
   ]
  },
  {
   "cell_type": "code",
   "execution_count": 11,
   "id": "5aab5ef7",
   "metadata": {
    "vscode": {
     "languageId": "r"
    }
   },
   "outputs": [
    {
     "data": {
      "text/html": [
       "<style>\n",
       ".list-inline {list-style: none; margin:0; padding: 0}\n",
       ".list-inline>li {display: inline-block}\n",
       ".list-inline>li:not(:last-child)::after {content: \"\\00b7\"; padding: 0 .5ex}\n",
       "</style>\n",
       "<ol class=list-inline><li>1</li><li>2</li><li>3</li><li>4</li><li>5</li><li>6</li><li>7</li><li>8</li><li>9</li></ol>\n"
      ],
      "text/latex": [
       "\\begin{enumerate*}\n",
       "\\item 1\n",
       "\\item 2\n",
       "\\item 3\n",
       "\\item 4\n",
       "\\item 5\n",
       "\\item 6\n",
       "\\item 7\n",
       "\\item 8\n",
       "\\item 9\n",
       "\\end{enumerate*}\n"
      ],
      "text/markdown": [
       "1. 1\n",
       "2. 2\n",
       "3. 3\n",
       "4. 4\n",
       "5. 5\n",
       "6. 6\n",
       "7. 7\n",
       "8. 8\n",
       "9. 9\n",
       "\n",
       "\n"
      ],
      "text/plain": [
       "[1] 1 2 3 4 5 6 7 8 9"
      ]
     },
     "metadata": {},
     "output_type": "display_data"
    }
   ],
   "source": [
    "1:9\n"
   ]
  },
  {
   "cell_type": "code",
   "execution_count": 12,
   "id": "2018847c",
   "metadata": {
    "vscode": {
     "languageId": "r"
    }
   },
   "outputs": [
    {
     "data": {
      "text/html": [
       "'numeric'"
      ],
      "text/latex": [
       "'numeric'"
      ],
      "text/markdown": [
       "'numeric'"
      ],
      "text/plain": [
       "[1] \"numeric\""
      ]
     },
     "metadata": {},
     "output_type": "display_data"
    }
   ],
   "source": [
    "mode(1:9)\n"
   ]
  },
  {
   "cell_type": "code",
   "execution_count": 13,
   "id": "11350980",
   "metadata": {
    "vscode": {
     "languageId": "r"
    }
   },
   "outputs": [
    {
     "data": {
      "text/html": [
       "'integer'"
      ],
      "text/latex": [
       "'integer'"
      ],
      "text/markdown": [
       "'integer'"
      ],
      "text/plain": [
       "[1] \"integer\""
      ]
     },
     "metadata": {},
     "output_type": "display_data"
    }
   ],
   "source": [
    "class(1:9)\n"
   ]
  },
  {
   "cell_type": "code",
   "execution_count": 14,
   "id": "275a58b6",
   "metadata": {
    "vscode": {
     "languageId": "r"
    }
   },
   "outputs": [],
   "source": [
    "one_to_ten <- 1:10\n"
   ]
  },
  {
   "cell_type": "code",
   "execution_count": 15,
   "id": "9f32f529",
   "metadata": {
    "vscode": {
     "languageId": "r"
    }
   },
   "outputs": [
    {
     "name": "stdout",
     "output_type": "stream",
     "text": [
      " [1]  1  2  3  4  5  6  7  8  9 10\n"
     ]
    }
   ],
   "source": [
    "print(one_to_ten)\n"
   ]
  },
  {
   "cell_type": "code",
   "execution_count": 16,
   "id": "a184d266",
   "metadata": {
    "vscode": {
     "languageId": "r"
    }
   },
   "outputs": [
    {
     "data": {
      "text/html": [
       "'integer'"
      ],
      "text/latex": [
       "'integer'"
      ],
      "text/markdown": [
       "'integer'"
      ],
      "text/plain": [
       "[1] \"integer\""
      ]
     },
     "metadata": {},
     "output_type": "display_data"
    }
   ],
   "source": [
    "class(one_to_ten)\n"
   ]
  },
  {
   "cell_type": "markdown",
   "id": "8a805f36",
   "metadata": {},
   "source": [
    "**integer** requires less storage space compared to **numeric** (think of it as a double)\n",
    "\n",
    "Putting a \"L\" after the number turns it into an integer\n"
   ]
  },
  {
   "cell_type": "code",
   "execution_count": 17,
   "id": "31323174",
   "metadata": {
    "vscode": {
     "languageId": "r"
    }
   },
   "outputs": [
    {
     "data": {
      "text/html": [
       "<style>\n",
       ".list-inline {list-style: none; margin:0; padding: 0}\n",
       ".list-inline>li {display: inline-block}\n",
       ".list-inline>li:not(:last-child)::after {content: \"\\00b7\"; padding: 0 .5ex}\n",
       "</style>\n",
       "<ol class=list-inline><li>2</li><li>4</li><li>4</li><li>6</li><li>6</li><li>8</li><li>8</li><li>10</li><li>10</li><li>12</li></ol>\n"
      ],
      "text/latex": [
       "\\begin{enumerate*}\n",
       "\\item 2\n",
       "\\item 4\n",
       "\\item 4\n",
       "\\item 6\n",
       "\\item 6\n",
       "\\item 8\n",
       "\\item 8\n",
       "\\item 10\n",
       "\\item 10\n",
       "\\item 12\n",
       "\\end{enumerate*}\n"
      ],
      "text/markdown": [
       "1. 2\n",
       "2. 4\n",
       "3. 4\n",
       "4. 6\n",
       "5. 6\n",
       "6. 8\n",
       "7. 8\n",
       "8. 10\n",
       "9. 10\n",
       "10. 12\n",
       "\n",
       "\n"
      ],
      "text/plain": [
       " [1]  2  4  4  6  6  8  8 10 10 12"
      ]
     },
     "metadata": {},
     "output_type": "display_data"
    }
   ],
   "source": [
    "one_to_ten + c(1, 2)\n"
   ]
  },
  {
   "cell_type": "code",
   "execution_count": 18,
   "id": "4dbba8d6",
   "metadata": {
    "vscode": {
     "languageId": "r"
    }
   },
   "outputs": [
    {
     "data": {
      "text/html": [
       "<style>\n",
       ".list-inline {list-style: none; margin:0; padding: 0}\n",
       ".list-inline>li {display: inline-block}\n",
       ".list-inline>li:not(:last-child)::after {content: \"\\00b7\"; padding: 0 .5ex}\n",
       "</style>\n",
       "<ol class=list-inline><li>1</li><li>2</li><li>3</li><li>4</li><li>5</li><li>6</li><li>7</li><li>8</li><li>9</li><li>10</li></ol>\n"
      ],
      "text/latex": [
       "\\begin{enumerate*}\n",
       "\\item 1\n",
       "\\item 2\n",
       "\\item 3\n",
       "\\item 4\n",
       "\\item 5\n",
       "\\item 6\n",
       "\\item 7\n",
       "\\item 8\n",
       "\\item 9\n",
       "\\item 10\n",
       "\\end{enumerate*}\n"
      ],
      "text/markdown": [
       "1. 1\n",
       "2. 2\n",
       "3. 3\n",
       "4. 4\n",
       "5. 5\n",
       "6. 6\n",
       "7. 7\n",
       "8. 8\n",
       "9. 9\n",
       "10. 10\n",
       "\n",
       "\n"
      ],
      "text/plain": [
       " [1]  1  2  3  4  5  6  7  8  9 10"
      ]
     },
     "metadata": {},
     "output_type": "display_data"
    }
   ],
   "source": [
    "one_to_ten\n"
   ]
  },
  {
   "cell_type": "markdown",
   "id": "7b371ea4",
   "metadata": {},
   "source": [
    "# Functions and Methods\n"
   ]
  },
  {
   "cell_type": "code",
   "execution_count": 19,
   "id": "031e59b8",
   "metadata": {
    "vscode": {
     "languageId": "r"
    }
   },
   "outputs": [
    {
     "data": {
      "text/html": [
       "&lt;NA&gt;"
      ],
      "text/latex": [
       "<NA>"
      ],
      "text/markdown": [
       "&lt;NA&gt;"
      ],
      "text/plain": [
       "[1] NA"
      ]
     },
     "metadata": {},
     "output_type": "display_data"
    }
   ],
   "source": [
    "sum(c(3, 5, NA)) # NA stands for Not Available, it's like a missing value\n"
   ]
  },
  {
   "cell_type": "code",
   "execution_count": 20,
   "id": "85004417",
   "metadata": {
    "vscode": {
     "languageId": "r"
    }
   },
   "outputs": [
    {
     "data": {
      "text/html": [
       "8"
      ],
      "text/latex": [
       "8"
      ],
      "text/markdown": [
       "8"
      ],
      "text/plain": [
       "[1] 8"
      ]
     },
     "metadata": {},
     "output_type": "display_data"
    }
   ],
   "source": [
    "sum(c(3, 5, NA), na.rm = T) # na.rm as name suggests it removes missing value\n"
   ]
  },
  {
   "cell_type": "code",
   "execution_count": 21,
   "id": "511cd9e6",
   "metadata": {
    "vscode": {
     "languageId": "r"
    }
   },
   "outputs": [
    {
     "data": {
      "text/html": [
       "61"
      ],
      "text/latex": [
       "61"
      ],
      "text/markdown": [
       "61"
      ],
      "text/plain": [
       "[1] 61"
      ]
     },
     "metadata": {},
     "output_type": "display_data"
    }
   ],
   "source": [
    "sum(one_to_ten, c(1, 2, 3))\n"
   ]
  },
  {
   "cell_type": "code",
   "execution_count": 22,
   "id": "ba57f213",
   "metadata": {
    "vscode": {
     "languageId": "r"
    }
   },
   "outputs": [
    {
     "data": {
      "text/html": [
       "<pre class=language-r><code>function (x, ...) \n",
       "NULL</code></pre>"
      ],
      "text/latex": [
       "\\begin{minted}{r}\n",
       "function (x, ...) \n",
       "NULL\n",
       "\\end{minted}"
      ],
      "text/markdown": [
       "```r\n",
       "function (x, ...) \n",
       "NULL\n",
       "```"
      ],
      "text/plain": [
       "function (x, ...) \n",
       "NULL"
      ]
     },
     "metadata": {},
     "output_type": "display_data"
    }
   ],
   "source": [
    "args(mean)\n"
   ]
  },
  {
   "cell_type": "code",
   "execution_count": 23,
   "id": "b6ed20b6",
   "metadata": {
    "vscode": {
     "languageId": "r"
    }
   },
   "outputs": [
    {
     "data": {
      "text/html": [
       "<pre class=language-r><code>function (x, trim = 0, na.rm = FALSE, ...) \n",
       "NULL</code></pre>"
      ],
      "text/latex": [
       "\\begin{minted}{r}\n",
       "function (x, trim = 0, na.rm = FALSE, ...) \n",
       "NULL\n",
       "\\end{minted}"
      ],
      "text/markdown": [
       "```r\n",
       "function (x, trim = 0, na.rm = FALSE, ...) \n",
       "NULL\n",
       "```"
      ],
      "text/plain": [
       "function (x, trim = 0, na.rm = FALSE, ...) \n",
       "NULL"
      ]
     },
     "metadata": {},
     "output_type": "display_data"
    }
   ],
   "source": [
    "args(mean.default)\n"
   ]
  },
  {
   "cell_type": "code",
   "execution_count": 24,
   "id": "323aa716",
   "metadata": {
    "vscode": {
     "languageId": "r"
    }
   },
   "outputs": [
    {
     "data": {
      "text/html": [
       "<pre class=language-r><code>function (..., na.rm = FALSE) \n",
       "NULL</code></pre>"
      ],
      "text/latex": [
       "\\begin{minted}{r}\n",
       "function (..., na.rm = FALSE) \n",
       "NULL\n",
       "\\end{minted}"
      ],
      "text/markdown": [
       "```r\n",
       "function (..., na.rm = FALSE) \n",
       "NULL\n",
       "```"
      ],
      "text/plain": [
       "function (..., na.rm = FALSE) \n",
       "NULL"
      ]
     },
     "metadata": {},
     "output_type": "display_data"
    }
   ],
   "source": [
    "args(sum)\n"
   ]
  },
  {
   "cell_type": "code",
   "execution_count": 25,
   "id": "7d653be3",
   "metadata": {
    "vscode": {
     "languageId": "r"
    }
   },
   "outputs": [
    {
     "data": {
      "text/plain": [
       "[1] mean.Date        mean.default     mean.difftime    mean.integer64* \n",
       "[5] mean.POSIXct     mean.POSIXlt     mean.quosure*    mean.vctrs_vctr*\n",
       "see '?methods' for accessing help and source code"
      ]
     },
     "metadata": {},
     "output_type": "display_data"
    }
   ],
   "source": [
    "methods(mean)\n"
   ]
  },
  {
   "cell_type": "code",
   "execution_count": 26,
   "id": "00a4945d",
   "metadata": {
    "vscode": {
     "languageId": "r"
    }
   },
   "outputs": [],
   "source": [
    "# ?methods # Opens up a help window\n"
   ]
  },
  {
   "cell_type": "markdown",
   "id": "05688523",
   "metadata": {},
   "source": [
    "# More on Vector\n"
   ]
  },
  {
   "cell_type": "markdown",
   "id": "7e322344",
   "metadata": {},
   "source": [
    "### Atomic Vector\n",
    "\n",
    "- Integer\n",
    "- Double\n",
    "- Logical\n",
    "- Character\n",
    "- Complex\n",
    "- Raw\n",
    "\n",
    "### Recursive Vector\n",
    "\n",
    "- List\n"
   ]
  },
  {
   "cell_type": "code",
   "execution_count": 27,
   "id": "8c707377",
   "metadata": {
    "vscode": {
     "languageId": "r"
    }
   },
   "outputs": [
    {
     "data": {
      "text/html": [
       "TRUE"
      ],
      "text/latex": [
       "TRUE"
      ],
      "text/markdown": [
       "TRUE"
      ],
      "text/plain": [
       "[1] TRUE"
      ]
     },
     "metadata": {},
     "output_type": "display_data"
    }
   ],
   "source": [
    "is.atomic(one_to_ten)\n"
   ]
  },
  {
   "cell_type": "code",
   "execution_count": 28,
   "id": "74bf9eae",
   "metadata": {
    "vscode": {
     "languageId": "r"
    }
   },
   "outputs": [],
   "source": [
    "# help(\"is.vector\")\n"
   ]
  },
  {
   "cell_type": "code",
   "execution_count": 29,
   "id": "72509a70",
   "metadata": {
    "vscode": {
     "languageId": "r"
    }
   },
   "outputs": [],
   "source": [
    "# help(\"is.atomic\")\n"
   ]
  },
  {
   "cell_type": "markdown",
   "id": "fdea5000",
   "metadata": {},
   "source": [
    "# R-objects\n",
    "\n",
    "R lang has various R-objects, which are the following.\n",
    "\n",
    "- Vector\n",
    "- List\n",
    "- Factor\n",
    "- Matrix\n",
    "- Array\n",
    "- DataFrame\n"
   ]
  },
  {
   "cell_type": "markdown",
   "id": "96bb1b2d",
   "metadata": {},
   "source": [
    "# Matrix\n"
   ]
  },
  {
   "cell_type": "code",
   "execution_count": 30,
   "id": "217c0812",
   "metadata": {
    "vscode": {
     "languageId": "r"
    }
   },
   "outputs": [],
   "source": [
    "matrix3x3 <- matrix(1L:9L, nrow = 3, ncol = 3)\n"
   ]
  },
  {
   "cell_type": "code",
   "execution_count": 31,
   "id": "9872215b",
   "metadata": {
    "vscode": {
     "languageId": "r"
    }
   },
   "outputs": [
    {
     "name": "stdout",
     "output_type": "stream",
     "text": [
      "     [,1] [,2] [,3]\n",
      "[1,]    1    4    7\n",
      "[2,]    2    5    8\n",
      "[3,]    3    6    9\n"
     ]
    }
   ],
   "source": [
    "print(matrix3x3)\n"
   ]
  },
  {
   "cell_type": "code",
   "execution_count": 32,
   "id": "cd26960b",
   "metadata": {
    "vscode": {
     "languageId": "r"
    }
   },
   "outputs": [
    {
     "data": {
      "text/html": [
       "<style>\n",
       ".list-inline {list-style: none; margin:0; padding: 0}\n",
       ".list-inline>li {display: inline-block}\n",
       ".list-inline>li:not(:last-child)::after {content: \"\\00b7\"; padding: 0 .5ex}\n",
       "</style>\n",
       "<ol class=list-inline><li>'matrix'</li><li>'array'</li></ol>\n"
      ],
      "text/latex": [
       "\\begin{enumerate*}\n",
       "\\item 'matrix'\n",
       "\\item 'array'\n",
       "\\end{enumerate*}\n"
      ],
      "text/markdown": [
       "1. 'matrix'\n",
       "2. 'array'\n",
       "\n",
       "\n"
      ],
      "text/plain": [
       "[1] \"matrix\" \"array\" "
      ]
     },
     "metadata": {},
     "output_type": "display_data"
    }
   ],
   "source": [
    "class(matrix3x3) # Left to Right: Specific to General\n"
   ]
  },
  {
   "cell_type": "code",
   "execution_count": 33,
   "id": "cdc5595d",
   "metadata": {
    "vscode": {
     "languageId": "r"
    }
   },
   "outputs": [],
   "source": [
    "# help(class)\n"
   ]
  },
  {
   "cell_type": "code",
   "execution_count": 34,
   "id": "225d8e81",
   "metadata": {
    "vscode": {
     "languageId": "r"
    }
   },
   "outputs": [],
   "source": [
    "# help(matrix)\n"
   ]
  },
  {
   "cell_type": "code",
   "execution_count": 35,
   "id": "1dfbbdc4",
   "metadata": {
    "vscode": {
     "languageId": "r"
    }
   },
   "outputs": [
    {
     "data": {
      "text/html": [
       "'numeric'"
      ],
      "text/latex": [
       "'numeric'"
      ],
      "text/markdown": [
       "'numeric'"
      ],
      "text/plain": [
       "[1] \"numeric\""
      ]
     },
     "metadata": {},
     "output_type": "display_data"
    }
   ],
   "source": [
    "mode(matrix3x3)\n"
   ]
  },
  {
   "cell_type": "code",
   "execution_count": 36,
   "id": "0d63634f",
   "metadata": {
    "vscode": {
     "languageId": "r"
    }
   },
   "outputs": [
    {
     "data": {
      "text/html": [
       "'integer'"
      ],
      "text/latex": [
       "'integer'"
      ],
      "text/markdown": [
       "'integer'"
      ],
      "text/plain": [
       "[1] \"integer\""
      ]
     },
     "metadata": {},
     "output_type": "display_data"
    }
   ],
   "source": [
    "class(matrix3x3[1])\n"
   ]
  },
  {
   "cell_type": "code",
   "execution_count": 37,
   "id": "e9c1a893",
   "metadata": {
    "vscode": {
     "languageId": "r"
    }
   },
   "outputs": [
    {
     "data": {
      "text/html": [
       "<strong>$dim</strong> = <style>\n",
       ".list-inline {list-style: none; margin:0; padding: 0}\n",
       ".list-inline>li {display: inline-block}\n",
       ".list-inline>li:not(:last-child)::after {content: \"\\00b7\"; padding: 0 .5ex}\n",
       "</style>\n",
       "<ol class=list-inline><li>3</li><li>3</li></ol>\n"
      ],
      "text/latex": [
       "\\textbf{\\$dim} = \\begin{enumerate*}\n",
       "\\item 3\n",
       "\\item 3\n",
       "\\end{enumerate*}\n"
      ],
      "text/markdown": [
       "**$dim** = 1. 3\n",
       "2. 3\n",
       "\n",
       "\n"
      ],
      "text/plain": [
       "$dim\n",
       "[1] 3 3\n"
      ]
     },
     "metadata": {},
     "output_type": "display_data"
    }
   ],
   "source": [
    "attributes(matrix3x3)\n"
   ]
  },
  {
   "cell_type": "code",
   "execution_count": 38,
   "id": "bc18798e",
   "metadata": {
    "vscode": {
     "languageId": "r"
    }
   },
   "outputs": [
    {
     "data": {
      "text/html": [
       "<style>\n",
       ".list-inline {list-style: none; margin:0; padding: 0}\n",
       ".list-inline>li {display: inline-block}\n",
       ".list-inline>li:not(:last-child)::after {content: \"\\00b7\"; padding: 0 .5ex}\n",
       "</style>\n",
       "<ol class=list-inline><li>3</li><li>3</li></ol>\n"
      ],
      "text/latex": [
       "\\begin{enumerate*}\n",
       "\\item 3\n",
       "\\item 3\n",
       "\\end{enumerate*}\n"
      ],
      "text/markdown": [
       "1. 3\n",
       "2. 3\n",
       "\n",
       "\n"
      ],
      "text/plain": [
       "[1] 3 3"
      ]
     },
     "metadata": {},
     "output_type": "display_data"
    }
   ],
   "source": [
    "dim(matrix3x3)\n"
   ]
  },
  {
   "cell_type": "code",
   "execution_count": 39,
   "id": "5e565796",
   "metadata": {
    "vscode": {
     "languageId": "r"
    }
   },
   "outputs": [
    {
     "name": "stdout",
     "output_type": "stream",
     "text": [
      "     [,1] [,2] [,3]\n",
      "[1,]    1    4    7\n",
      "[2,]    2    5    8\n",
      "[3,]    3    6    9\n"
     ]
    }
   ],
   "source": [
    "print(matrix3x3)\n"
   ]
  },
  {
   "cell_type": "code",
   "execution_count": 40,
   "id": "33468e61",
   "metadata": {
    "vscode": {
     "languageId": "r"
    }
   },
   "outputs": [
    {
     "data": {
      "text/html": [
       "2"
      ],
      "text/latex": [
       "2"
      ],
      "text/markdown": [
       "2"
      ],
      "text/plain": [
       "[1] 2"
      ]
     },
     "metadata": {},
     "output_type": "display_data"
    }
   ],
   "source": [
    "matrix3x3[2, 1] # First row then col\n"
   ]
  },
  {
   "cell_type": "code",
   "execution_count": 41,
   "id": "14e301ac",
   "metadata": {
    "vscode": {
     "languageId": "r"
    }
   },
   "outputs": [
    {
     "data": {
      "text/html": [
       "3"
      ],
      "text/latex": [
       "3"
      ],
      "text/markdown": [
       "3"
      ],
      "text/plain": [
       "[1] 3"
      ]
     },
     "metadata": {},
     "output_type": "display_data"
    }
   ],
   "source": [
    "matrix3x3[3]\n"
   ]
  },
  {
   "cell_type": "code",
   "execution_count": 42,
   "id": "81c68eae",
   "metadata": {
    "vscode": {
     "languageId": "r"
    }
   },
   "outputs": [
    {
     "data": {
      "text/html": [
       "<table class=\"dataframe\">\n",
       "<caption>A matrix: 3 × 3 of type int</caption>\n",
       "<tbody>\n",
       "\t<tr><td>1</td><td>16</td><td>49</td></tr>\n",
       "\t<tr><td>4</td><td>25</td><td>64</td></tr>\n",
       "\t<tr><td>9</td><td>36</td><td>81</td></tr>\n",
       "</tbody>\n",
       "</table>\n"
      ],
      "text/latex": [
       "A matrix: 3 × 3 of type int\n",
       "\\begin{tabular}{lll}\n",
       "\t 1 & 16 & 49\\\\\n",
       "\t 4 & 25 & 64\\\\\n",
       "\t 9 & 36 & 81\\\\\n",
       "\\end{tabular}\n"
      ],
      "text/markdown": [
       "\n",
       "A matrix: 3 × 3 of type int\n",
       "\n",
       "| 1 | 16 | 49 |\n",
       "| 4 | 25 | 64 |\n",
       "| 9 | 36 | 81 |\n",
       "\n"
      ],
      "text/plain": [
       "     [,1] [,2] [,3]\n",
       "[1,] 1    16   49  \n",
       "[2,] 4    25   64  \n",
       "[3,] 9    36   81  "
      ]
     },
     "metadata": {},
     "output_type": "display_data"
    }
   ],
   "source": [
    "matrix3x3 * matrix3x3\n"
   ]
  },
  {
   "cell_type": "code",
   "execution_count": 43,
   "id": "e38d1596",
   "metadata": {
    "vscode": {
     "languageId": "r"
    }
   },
   "outputs": [
    {
     "data": {
      "text/html": [
       "<table class=\"dataframe\">\n",
       "<caption>A matrix: 3 × 3 of type int</caption>\n",
       "<tbody>\n",
       "\t<tr><td> 1</td><td> 8</td><td>21</td></tr>\n",
       "\t<tr><td> 8</td><td>25</td><td>48</td></tr>\n",
       "\t<tr><td>21</td><td>48</td><td>81</td></tr>\n",
       "</tbody>\n",
       "</table>\n"
      ],
      "text/latex": [
       "A matrix: 3 × 3 of type int\n",
       "\\begin{tabular}{lll}\n",
       "\t  1 &  8 & 21\\\\\n",
       "\t  8 & 25 & 48\\\\\n",
       "\t 21 & 48 & 81\\\\\n",
       "\\end{tabular}\n"
      ],
      "text/markdown": [
       "\n",
       "A matrix: 3 × 3 of type int\n",
       "\n",
       "|  1 |  8 | 21 |\n",
       "|  8 | 25 | 48 |\n",
       "| 21 | 48 | 81 |\n",
       "\n"
      ],
      "text/plain": [
       "     [,1] [,2] [,3]\n",
       "[1,]  1    8   21  \n",
       "[2,]  8   25   48  \n",
       "[3,] 21   48   81  "
      ]
     },
     "metadata": {},
     "output_type": "display_data"
    }
   ],
   "source": [
    "matrix3x3 * t(matrix3x3) # t() is transpose\n"
   ]
  },
  {
   "cell_type": "code",
   "execution_count": 44,
   "id": "a46e5a97",
   "metadata": {
    "vscode": {
     "languageId": "r"
    }
   },
   "outputs": [
    {
     "data": {
      "text/html": [
       "<table class=\"dataframe\">\n",
       "<caption>A matrix: 3 × 3 of type dbl</caption>\n",
       "<tbody>\n",
       "\t<tr><td>30</td><td>66</td><td>102</td></tr>\n",
       "\t<tr><td>36</td><td>81</td><td>126</td></tr>\n",
       "\t<tr><td>42</td><td>96</td><td>150</td></tr>\n",
       "</tbody>\n",
       "</table>\n"
      ],
      "text/latex": [
       "A matrix: 3 × 3 of type dbl\n",
       "\\begin{tabular}{lll}\n",
       "\t 30 & 66 & 102\\\\\n",
       "\t 36 & 81 & 126\\\\\n",
       "\t 42 & 96 & 150\\\\\n",
       "\\end{tabular}\n"
      ],
      "text/markdown": [
       "\n",
       "A matrix: 3 × 3 of type dbl\n",
       "\n",
       "| 30 | 66 | 102 |\n",
       "| 36 | 81 | 126 |\n",
       "| 42 | 96 | 150 |\n",
       "\n"
      ],
      "text/plain": [
       "     [,1] [,2] [,3]\n",
       "[1,] 30   66   102 \n",
       "[2,] 36   81   126 \n",
       "[3,] 42   96   150 "
      ]
     },
     "metadata": {},
     "output_type": "display_data"
    }
   ],
   "source": [
    "matrix3x3 %*% matrix3x3 # %*% means matrix multiplication\n"
   ]
  },
  {
   "cell_type": "markdown",
   "id": "c390b156",
   "metadata": {},
   "source": [
    "# Lists\n"
   ]
  },
  {
   "cell_type": "code",
   "execution_count": 45,
   "id": "e7ca5a41",
   "metadata": {
    "vscode": {
     "languageId": "r"
    }
   },
   "outputs": [],
   "source": [
    "U1 <- c(203, 204)\n",
    "U2 <- c(323, 324, 447)\n",
    "U3 <- c(208, 427, 423, 523, 545)\n"
   ]
  },
  {
   "cell_type": "code",
   "execution_count": 46,
   "id": "b34da804",
   "metadata": {
    "vscode": {
     "languageId": "r"
    }
   },
   "outputs": [],
   "source": [
    "mymcgill_stats <- list(U1, U2, U3, \"Statistics Major\")\n"
   ]
  },
  {
   "cell_type": "code",
   "execution_count": 47,
   "id": "e53ce7a9",
   "metadata": {
    "vscode": {
     "languageId": "r"
    }
   },
   "outputs": [
    {
     "name": "stdout",
     "output_type": "stream",
     "text": [
      "[[1]]\n",
      "[1] 203 204\n",
      "\n",
      "[[2]]\n",
      "[1] 323 324 447\n",
      "\n",
      "[[3]]\n",
      "[1] 208 427 423 523 545\n",
      "\n",
      "[[4]]\n",
      "[1] \"Statistics Major\"\n",
      "\n"
     ]
    }
   ],
   "source": [
    "print(mymcgill_stats)\n"
   ]
  },
  {
   "cell_type": "code",
   "execution_count": 48,
   "id": "1ad85716",
   "metadata": {
    "vscode": {
     "languageId": "r"
    }
   },
   "outputs": [],
   "source": [
    "mymcgill_stats <- list(U1 = U1, U2 = U2, U3 = U3, Major = \"Statistics Major\")\n"
   ]
  },
  {
   "cell_type": "code",
   "execution_count": 49,
   "id": "bdf7ee2b",
   "metadata": {
    "vscode": {
     "languageId": "r"
    }
   },
   "outputs": [
    {
     "name": "stdout",
     "output_type": "stream",
     "text": [
      "$U1\n",
      "[1] 203 204\n",
      "\n",
      "$U2\n",
      "[1] 323 324 447\n",
      "\n",
      "$U3\n",
      "[1] 208 427 423 523 545\n",
      "\n",
      "$Major\n",
      "[1] \"Statistics Major\"\n",
      "\n"
     ]
    }
   ],
   "source": [
    "print(mymcgill_stats)\n"
   ]
  },
  {
   "cell_type": "code",
   "execution_count": 50,
   "id": "9bef6c97",
   "metadata": {
    "vscode": {
     "languageId": "r"
    }
   },
   "outputs": [
    {
     "data": {
      "text/html": [
       "<style>\n",
       ".list-inline {list-style: none; margin:0; padding: 0}\n",
       ".list-inline>li {display: inline-block}\n",
       ".list-inline>li:not(:last-child)::after {content: \"\\00b7\"; padding: 0 .5ex}\n",
       "</style>\n",
       "<ol class=list-inline><li>323</li><li>324</li><li>447</li></ol>\n"
      ],
      "text/latex": [
       "\\begin{enumerate*}\n",
       "\\item 323\n",
       "\\item 324\n",
       "\\item 447\n",
       "\\end{enumerate*}\n"
      ],
      "text/markdown": [
       "1. 323\n",
       "2. 324\n",
       "3. 447\n",
       "\n",
       "\n"
      ],
      "text/plain": [
       "[1] 323 324 447"
      ]
     },
     "metadata": {},
     "output_type": "display_data"
    }
   ],
   "source": [
    "mymcgill_stats[[\"U2\"]] # Only get the content\n"
   ]
  },
  {
   "cell_type": "code",
   "execution_count": 51,
   "id": "f3eea862",
   "metadata": {
    "vscode": {
     "languageId": "r"
    }
   },
   "outputs": [
    {
     "data": {
      "text/html": [
       "<strong>$U2</strong> = <style>\n",
       ".list-inline {list-style: none; margin:0; padding: 0}\n",
       ".list-inline>li {display: inline-block}\n",
       ".list-inline>li:not(:last-child)::after {content: \"\\00b7\"; padding: 0 .5ex}\n",
       "</style>\n",
       "<ol class=list-inline><li>323</li><li>324</li><li>447</li></ol>\n"
      ],
      "text/latex": [
       "\\textbf{\\$U2} = \\begin{enumerate*}\n",
       "\\item 323\n",
       "\\item 324\n",
       "\\item 447\n",
       "\\end{enumerate*}\n"
      ],
      "text/markdown": [
       "**$U2** = 1. 323\n",
       "2. 324\n",
       "3. 447\n",
       "\n",
       "\n"
      ],
      "text/plain": [
       "$U2\n",
       "[1] 323 324 447\n"
      ]
     },
     "metadata": {},
     "output_type": "display_data"
    }
   ],
   "source": [
    "mymcgill_stats[\"U2\"] # Get the content + the name\n"
   ]
  },
  {
   "cell_type": "code",
   "execution_count": 52,
   "id": "1509f029",
   "metadata": {
    "vscode": {
     "languageId": "r"
    }
   },
   "outputs": [
    {
     "data": {
      "text/html": [
       "<style>\n",
       ".list-inline {list-style: none; margin:0; padding: 0}\n",
       ".list-inline>li {display: inline-block}\n",
       ".list-inline>li:not(:last-child)::after {content: \"\\00b7\"; padding: 0 .5ex}\n",
       "</style>\n",
       "<ol class=list-inline><li>323</li><li>324</li><li>447</li></ol>\n"
      ],
      "text/latex": [
       "\\begin{enumerate*}\n",
       "\\item 323\n",
       "\\item 324\n",
       "\\item 447\n",
       "\\end{enumerate*}\n"
      ],
      "text/markdown": [
       "1. 323\n",
       "2. 324\n",
       "3. 447\n",
       "\n",
       "\n"
      ],
      "text/plain": [
       "[1] 323 324 447"
      ]
     },
     "metadata": {},
     "output_type": "display_data"
    }
   ],
   "source": [
    "mymcgill_stats$U2\n"
   ]
  },
  {
   "cell_type": "code",
   "execution_count": 53,
   "id": "eb0af01f",
   "metadata": {
    "vscode": {
     "languageId": "r"
    }
   },
   "outputs": [
    {
     "data": {
      "text/html": [
       "<dl>\n",
       "\t<dt>$U1</dt>\n",
       "\t\t<dd><style>\n",
       ".list-inline {list-style: none; margin:0; padding: 0}\n",
       ".list-inline>li {display: inline-block}\n",
       ".list-inline>li:not(:last-child)::after {content: \"\\00b7\"; padding: 0 .5ex}\n",
       "</style>\n",
       "<ol class=list-inline><li>203</li><li>204</li></ol>\n",
       "</dd>\n",
       "\t<dt>$U2</dt>\n",
       "\t\t<dd><style>\n",
       ".list-inline {list-style: none; margin:0; padding: 0}\n",
       ".list-inline>li {display: inline-block}\n",
       ".list-inline>li:not(:last-child)::after {content: \"\\00b7\"; padding: 0 .5ex}\n",
       "</style>\n",
       "<ol class=list-inline><li>323</li><li>324</li><li>447</li></ol>\n",
       "</dd>\n",
       "\t<dt>$U3</dt>\n",
       "\t\t<dd><style>\n",
       ".list-inline {list-style: none; margin:0; padding: 0}\n",
       ".list-inline>li {display: inline-block}\n",
       ".list-inline>li:not(:last-child)::after {content: \"\\00b7\"; padding: 0 .5ex}\n",
       "</style>\n",
       "<ol class=list-inline><li>208</li><li>427</li><li>423</li><li>523</li><li>545</li></ol>\n",
       "</dd>\n",
       "\t<dt>$Major</dt>\n",
       "\t\t<dd>'Statistics Major'</dd>\n",
       "</dl>\n"
      ],
      "text/latex": [
       "\\begin{description}\n",
       "\\item[\\$U1] \\begin{enumerate*}\n",
       "\\item 203\n",
       "\\item 204\n",
       "\\end{enumerate*}\n",
       "\n",
       "\\item[\\$U2] \\begin{enumerate*}\n",
       "\\item 323\n",
       "\\item 324\n",
       "\\item 447\n",
       "\\end{enumerate*}\n",
       "\n",
       "\\item[\\$U3] \\begin{enumerate*}\n",
       "\\item 208\n",
       "\\item 427\n",
       "\\item 423\n",
       "\\item 523\n",
       "\\item 545\n",
       "\\end{enumerate*}\n",
       "\n",
       "\\item[\\$Major] 'Statistics Major'\n",
       "\\end{description}\n"
      ],
      "text/markdown": [
       "$U1\n",
       ":   1. 203\n",
       "2. 204\n",
       "\n",
       "\n",
       "\n",
       "$U2\n",
       ":   1. 323\n",
       "2. 324\n",
       "3. 447\n",
       "\n",
       "\n",
       "\n",
       "$U3\n",
       ":   1. 208\n",
       "2. 427\n",
       "3. 423\n",
       "4. 523\n",
       "5. 545\n",
       "\n",
       "\n",
       "\n",
       "$Major\n",
       ":   'Statistics Major'\n",
       "\n",
       "\n"
      ],
      "text/plain": [
       "$U1\n",
       "[1] 203 204\n",
       "\n",
       "$U2\n",
       "[1] 323 324 447\n",
       "\n",
       "$U3\n",
       "[1] 208 427 423 523 545\n",
       "\n",
       "$Major\n",
       "[1] \"Statistics Major\"\n"
      ]
     },
     "metadata": {},
     "output_type": "display_data"
    }
   ],
   "source": [
    "mymcgill_stats\n"
   ]
  },
  {
   "cell_type": "code",
   "execution_count": 54,
   "id": "c6a1a771",
   "metadata": {
    "vscode": {
     "languageId": "r"
    }
   },
   "outputs": [
    {
     "data": {
      "text/html": [
       "<dl>\n",
       "\t<dt>$U1</dt>\n",
       "\t\t<dd><style>\n",
       ".list-inline {list-style: none; margin:0; padding: 0}\n",
       ".list-inline>li {display: inline-block}\n",
       ".list-inline>li:not(:last-child)::after {content: \"\\00b7\"; padding: 0 .5ex}\n",
       "</style>\n",
       "<ol class=list-inline><li>203</li><li>204</li></ol>\n",
       "</dd>\n",
       "\t<dt>$U2</dt>\n",
       "\t\t<dd><style>\n",
       ".list-inline {list-style: none; margin:0; padding: 0}\n",
       ".list-inline>li {display: inline-block}\n",
       ".list-inline>li:not(:last-child)::after {content: \"\\00b7\"; padding: 0 .5ex}\n",
       "</style>\n",
       "<ol class=list-inline><li>323</li><li>324</li><li>447</li></ol>\n",
       "</dd>\n",
       "</dl>\n"
      ],
      "text/latex": [
       "\\begin{description}\n",
       "\\item[\\$U1] \\begin{enumerate*}\n",
       "\\item 203\n",
       "\\item 204\n",
       "\\end{enumerate*}\n",
       "\n",
       "\\item[\\$U2] \\begin{enumerate*}\n",
       "\\item 323\n",
       "\\item 324\n",
       "\\item 447\n",
       "\\end{enumerate*}\n",
       "\n",
       "\\end{description}\n"
      ],
      "text/markdown": [
       "$U1\n",
       ":   1. 203\n",
       "2. 204\n",
       "\n",
       "\n",
       "\n",
       "$U2\n",
       ":   1. 323\n",
       "2. 324\n",
       "3. 447\n",
       "\n",
       "\n",
       "\n",
       "\n",
       "\n"
      ],
      "text/plain": [
       "$U1\n",
       "[1] 203 204\n",
       "\n",
       "$U2\n",
       "[1] 323 324 447\n"
      ]
     },
     "metadata": {},
     "output_type": "display_data"
    }
   ],
   "source": [
    "mymcgill_stats[c(1, 2)]\n"
   ]
  },
  {
   "cell_type": "code",
   "execution_count": 55,
   "id": "c0c6c2ec",
   "metadata": {
    "vscode": {
     "languageId": "r"
    }
   },
   "outputs": [
    {
     "data": {
      "text/html": [
       "204"
      ],
      "text/latex": [
       "204"
      ],
      "text/markdown": [
       "204"
      ],
      "text/plain": [
       "[1] 204"
      ]
     },
     "metadata": {},
     "output_type": "display_data"
    }
   ],
   "source": [
    "mymcgill_stats[[c(1, 2)]] # IMPORTANT: Recursive indexing 1st of outer, 2nd of inner\n"
   ]
  },
  {
   "cell_type": "code",
   "execution_count": 56,
   "id": "5ee502d2",
   "metadata": {
    "vscode": {
     "languageId": "r"
    }
   },
   "outputs": [
    {
     "data": {
      "text/html": [
       "204"
      ],
      "text/latex": [
       "204"
      ],
      "text/markdown": [
       "204"
      ],
      "text/plain": [
       "[1] 204"
      ]
     },
     "metadata": {},
     "output_type": "display_data"
    }
   ],
   "source": [
    "mymcgill_stats[[1]][[2]]\n"
   ]
  },
  {
   "cell_type": "code",
   "execution_count": 57,
   "id": "c9872ff5",
   "metadata": {
    "vscode": {
     "languageId": "r"
    }
   },
   "outputs": [
    {
     "data": {
      "text/html": [
       "<dl>\n",
       "\t<dt>$U1</dt>\n",
       "\t\t<dd><style>\n",
       ".list-inline {list-style: none; margin:0; padding: 0}\n",
       ".list-inline>li {display: inline-block}\n",
       ".list-inline>li:not(:last-child)::after {content: \"\\00b7\"; padding: 0 .5ex}\n",
       "</style>\n",
       "<ol class=list-inline><li>203</li><li>204</li></ol>\n",
       "</dd>\n",
       "\t<dt>$U2</dt>\n",
       "\t\t<dd><style>\n",
       ".list-inline {list-style: none; margin:0; padding: 0}\n",
       ".list-inline>li {display: inline-block}\n",
       ".list-inline>li:not(:last-child)::after {content: \"\\00b7\"; padding: 0 .5ex}\n",
       "</style>\n",
       "<ol class=list-inline><li>323</li><li>324</li><li>447</li></ol>\n",
       "</dd>\n",
       "</dl>\n"
      ],
      "text/latex": [
       "\\begin{description}\n",
       "\\item[\\$U1] \\begin{enumerate*}\n",
       "\\item 203\n",
       "\\item 204\n",
       "\\end{enumerate*}\n",
       "\n",
       "\\item[\\$U2] \\begin{enumerate*}\n",
       "\\item 323\n",
       "\\item 324\n",
       "\\item 447\n",
       "\\end{enumerate*}\n",
       "\n",
       "\\end{description}\n"
      ],
      "text/markdown": [
       "$U1\n",
       ":   1. 203\n",
       "2. 204\n",
       "\n",
       "\n",
       "\n",
       "$U2\n",
       ":   1. 323\n",
       "2. 324\n",
       "3. 447\n",
       "\n",
       "\n",
       "\n",
       "\n",
       "\n"
      ],
      "text/plain": [
       "$U1\n",
       "[1] 203 204\n",
       "\n",
       "$U2\n",
       "[1] 323 324 447\n"
      ]
     },
     "metadata": {},
     "output_type": "display_data"
    }
   ],
   "source": [
    "mymcgill_stats[c(\"U1\", \"U2\")]\n"
   ]
  },
  {
   "cell_type": "markdown",
   "id": "26233f69",
   "metadata": {},
   "source": [
    "# Data Frame vs Tibble\n"
   ]
  },
  {
   "cell_type": "code",
   "execution_count": 58,
   "id": "75edae39",
   "metadata": {
    "vscode": {
     "languageId": "r"
    }
   },
   "outputs": [],
   "source": [
    "htru2_df <- read.csv(\"HTRU2/HTRU_2.csv\", header = FALSE) # read.csv gives us a data.frame\n"
   ]
  },
  {
   "cell_type": "code",
   "execution_count": 59,
   "id": "15042fc1",
   "metadata": {
    "vscode": {
     "languageId": "r"
    }
   },
   "outputs": [
    {
     "data": {
      "text/html": [
       "'data.frame'"
      ],
      "text/latex": [
       "'data.frame'"
      ],
      "text/markdown": [
       "'data.frame'"
      ],
      "text/plain": [
       "[1] \"data.frame\""
      ]
     },
     "metadata": {},
     "output_type": "display_data"
    }
   ],
   "source": [
    "class(htru2_df)\n"
   ]
  },
  {
   "cell_type": "code",
   "execution_count": 60,
   "id": "9d695d83",
   "metadata": {
    "vscode": {
     "languageId": "r"
    }
   },
   "outputs": [
    {
     "data": {
      "text/html": [
       "<table class=\"dataframe\">\n",
       "<caption>A data.frame: 6 × 9</caption>\n",
       "<thead>\n",
       "\t<tr><th></th><th scope=col>V1</th><th scope=col>V2</th><th scope=col>V3</th><th scope=col>V4</th><th scope=col>V5</th><th scope=col>V6</th><th scope=col>V7</th><th scope=col>V8</th><th scope=col>V9</th></tr>\n",
       "\t<tr><th></th><th scope=col>&lt;dbl&gt;</th><th scope=col>&lt;dbl&gt;</th><th scope=col>&lt;dbl&gt;</th><th scope=col>&lt;dbl&gt;</th><th scope=col>&lt;dbl&gt;</th><th scope=col>&lt;dbl&gt;</th><th scope=col>&lt;dbl&gt;</th><th scope=col>&lt;dbl&gt;</th><th scope=col>&lt;int&gt;</th></tr>\n",
       "</thead>\n",
       "<tbody>\n",
       "\t<tr><th scope=row>1</th><td>140.56250</td><td>55.68378</td><td>-0.23457141</td><td>-0.6996484</td><td>3.199833</td><td>19.11043</td><td> 7.975532</td><td> 74.24222</td><td>0</td></tr>\n",
       "\t<tr><th scope=row>2</th><td>102.50781</td><td>58.88243</td><td> 0.46531815</td><td>-0.5150879</td><td>1.677258</td><td>14.86015</td><td>10.576487</td><td>127.39358</td><td>0</td></tr>\n",
       "\t<tr><th scope=row>3</th><td>103.01562</td><td>39.34165</td><td> 0.32332837</td><td> 1.0511644</td><td>3.121237</td><td>21.74467</td><td> 7.735822</td><td> 63.17191</td><td>0</td></tr>\n",
       "\t<tr><th scope=row>4</th><td>136.75000</td><td>57.17845</td><td>-0.06841464</td><td>-0.6362384</td><td>3.642977</td><td>20.95928</td><td> 6.896499</td><td> 53.59366</td><td>0</td></tr>\n",
       "\t<tr><th scope=row>5</th><td> 88.72656</td><td>40.67223</td><td> 0.60086608</td><td> 1.1234917</td><td>1.178930</td><td>11.46872</td><td>14.269573</td><td>252.56731</td><td>0</td></tr>\n",
       "\t<tr><th scope=row>6</th><td> 93.57031</td><td>46.69811</td><td> 0.53190485</td><td> 0.4167211</td><td>1.636288</td><td>14.54507</td><td>10.621748</td><td>131.39400</td><td>0</td></tr>\n",
       "</tbody>\n",
       "</table>\n"
      ],
      "text/latex": [
       "A data.frame: 6 × 9\n",
       "\\begin{tabular}{r|lllllllll}\n",
       "  & V1 & V2 & V3 & V4 & V5 & V6 & V7 & V8 & V9\\\\\n",
       "  & <dbl> & <dbl> & <dbl> & <dbl> & <dbl> & <dbl> & <dbl> & <dbl> & <int>\\\\\n",
       "\\hline\n",
       "\t1 & 140.56250 & 55.68378 & -0.23457141 & -0.6996484 & 3.199833 & 19.11043 &  7.975532 &  74.24222 & 0\\\\\n",
       "\t2 & 102.50781 & 58.88243 &  0.46531815 & -0.5150879 & 1.677258 & 14.86015 & 10.576487 & 127.39358 & 0\\\\\n",
       "\t3 & 103.01562 & 39.34165 &  0.32332837 &  1.0511644 & 3.121237 & 21.74467 &  7.735822 &  63.17191 & 0\\\\\n",
       "\t4 & 136.75000 & 57.17845 & -0.06841464 & -0.6362384 & 3.642977 & 20.95928 &  6.896499 &  53.59366 & 0\\\\\n",
       "\t5 &  88.72656 & 40.67223 &  0.60086608 &  1.1234917 & 1.178930 & 11.46872 & 14.269573 & 252.56731 & 0\\\\\n",
       "\t6 &  93.57031 & 46.69811 &  0.53190485 &  0.4167211 & 1.636288 & 14.54507 & 10.621748 & 131.39400 & 0\\\\\n",
       "\\end{tabular}\n"
      ],
      "text/markdown": [
       "\n",
       "A data.frame: 6 × 9\n",
       "\n",
       "| <!--/--> | V1 &lt;dbl&gt; | V2 &lt;dbl&gt; | V3 &lt;dbl&gt; | V4 &lt;dbl&gt; | V5 &lt;dbl&gt; | V6 &lt;dbl&gt; | V7 &lt;dbl&gt; | V8 &lt;dbl&gt; | V9 &lt;int&gt; |\n",
       "|---|---|---|---|---|---|---|---|---|---|\n",
       "| 1 | 140.56250 | 55.68378 | -0.23457141 | -0.6996484 | 3.199833 | 19.11043 |  7.975532 |  74.24222 | 0 |\n",
       "| 2 | 102.50781 | 58.88243 |  0.46531815 | -0.5150879 | 1.677258 | 14.86015 | 10.576487 | 127.39358 | 0 |\n",
       "| 3 | 103.01562 | 39.34165 |  0.32332837 |  1.0511644 | 3.121237 | 21.74467 |  7.735822 |  63.17191 | 0 |\n",
       "| 4 | 136.75000 | 57.17845 | -0.06841464 | -0.6362384 | 3.642977 | 20.95928 |  6.896499 |  53.59366 | 0 |\n",
       "| 5 |  88.72656 | 40.67223 |  0.60086608 |  1.1234917 | 1.178930 | 11.46872 | 14.269573 | 252.56731 | 0 |\n",
       "| 6 |  93.57031 | 46.69811 |  0.53190485 |  0.4167211 | 1.636288 | 14.54507 | 10.621748 | 131.39400 | 0 |\n",
       "\n"
      ],
      "text/plain": [
       "  V1        V2       V3          V4         V5       V6       V7       \n",
       "1 140.56250 55.68378 -0.23457141 -0.6996484 3.199833 19.11043  7.975532\n",
       "2 102.50781 58.88243  0.46531815 -0.5150879 1.677258 14.86015 10.576487\n",
       "3 103.01562 39.34165  0.32332837  1.0511644 3.121237 21.74467  7.735822\n",
       "4 136.75000 57.17845 -0.06841464 -0.6362384 3.642977 20.95928  6.896499\n",
       "5  88.72656 40.67223  0.60086608  1.1234917 1.178930 11.46872 14.269573\n",
       "6  93.57031 46.69811  0.53190485  0.4167211 1.636288 14.54507 10.621748\n",
       "  V8        V9\n",
       "1  74.24222 0 \n",
       "2 127.39358 0 \n",
       "3  63.17191 0 \n",
       "4  53.59366 0 \n",
       "5 252.56731 0 \n",
       "6 131.39400 0 "
      ]
     },
     "metadata": {},
     "output_type": "display_data"
    }
   ],
   "source": [
    "head(htru2_df)\n"
   ]
  },
  {
   "cell_type": "code",
   "execution_count": 61,
   "id": "7a1de1c3",
   "metadata": {
    "vscode": {
     "languageId": "r"
    }
   },
   "outputs": [
    {
     "name": "stderr",
     "output_type": "stream",
     "text": [
      "\u001b[1mRows: \u001b[22m\u001b[34m17898\u001b[39m \u001b[1mColumns: \u001b[22m\u001b[34m9\u001b[39m\n",
      "\u001b[36m──\u001b[39m \u001b[1mColumn specification\u001b[22m \u001b[36m────────────────────────────────────────────────────────\u001b[39m\n",
      "\u001b[1mDelimiter:\u001b[22m \",\"\n",
      "\u001b[32mdbl\u001b[39m (9): X1, X2, X3, X4, X5, X6, X7, X8, X9\n",
      "\n",
      "\u001b[36mℹ\u001b[39m Use `spec()` to retrieve the full column specification for this data.\n",
      "\u001b[36mℹ\u001b[39m Specify the column types or set `show_col_types = FALSE` to quiet this message.\n"
     ]
    }
   ],
   "source": [
    "htru2_tbl <- read_csv(\"HTRU2/HTRU_2.csv\", col_names = FALSE) # read_csv gives us a tibble\n"
   ]
  },
  {
   "cell_type": "code",
   "execution_count": 62,
   "id": "2a36f45e",
   "metadata": {
    "vscode": {
     "languageId": "r"
    }
   },
   "outputs": [
    {
     "data": {
      "text/html": [
       "<table class=\"dataframe\">\n",
       "<caption>A data.frame: 6 × 9</caption>\n",
       "<thead>\n",
       "\t<tr><th></th><th scope=col>X1</th><th scope=col>X2</th><th scope=col>X3</th><th scope=col>X4</th><th scope=col>X5</th><th scope=col>X6</th><th scope=col>X7</th><th scope=col>X8</th><th scope=col>X9</th></tr>\n",
       "\t<tr><th></th><th scope=col>&lt;dbl&gt;</th><th scope=col>&lt;dbl&gt;</th><th scope=col>&lt;dbl&gt;</th><th scope=col>&lt;dbl&gt;</th><th scope=col>&lt;dbl&gt;</th><th scope=col>&lt;dbl&gt;</th><th scope=col>&lt;dbl&gt;</th><th scope=col>&lt;dbl&gt;</th><th scope=col>&lt;dbl&gt;</th></tr>\n",
       "</thead>\n",
       "<tbody>\n",
       "\t<tr><th scope=row>1</th><td>140.56250</td><td>55.68378</td><td>-0.23457141</td><td>-0.6996484</td><td>3.199833</td><td>19.11043</td><td> 7.975532</td><td> 74.24222</td><td>0</td></tr>\n",
       "\t<tr><th scope=row>2</th><td>102.50781</td><td>58.88243</td><td> 0.46531815</td><td>-0.5150879</td><td>1.677258</td><td>14.86015</td><td>10.576487</td><td>127.39358</td><td>0</td></tr>\n",
       "\t<tr><th scope=row>3</th><td>103.01562</td><td>39.34165</td><td> 0.32332837</td><td> 1.0511644</td><td>3.121237</td><td>21.74467</td><td> 7.735822</td><td> 63.17191</td><td>0</td></tr>\n",
       "\t<tr><th scope=row>4</th><td>136.75000</td><td>57.17845</td><td>-0.06841464</td><td>-0.6362384</td><td>3.642977</td><td>20.95928</td><td> 6.896499</td><td> 53.59366</td><td>0</td></tr>\n",
       "\t<tr><th scope=row>5</th><td> 88.72656</td><td>40.67223</td><td> 0.60086608</td><td> 1.1234917</td><td>1.178930</td><td>11.46872</td><td>14.269573</td><td>252.56731</td><td>0</td></tr>\n",
       "\t<tr><th scope=row>6</th><td> 93.57031</td><td>46.69811</td><td> 0.53190485</td><td> 0.4167211</td><td>1.636288</td><td>14.54507</td><td>10.621748</td><td>131.39400</td><td>0</td></tr>\n",
       "</tbody>\n",
       "</table>\n"
      ],
      "text/latex": [
       "A data.frame: 6 × 9\n",
       "\\begin{tabular}{r|lllllllll}\n",
       "  & X1 & X2 & X3 & X4 & X5 & X6 & X7 & X8 & X9\\\\\n",
       "  & <dbl> & <dbl> & <dbl> & <dbl> & <dbl> & <dbl> & <dbl> & <dbl> & <dbl>\\\\\n",
       "\\hline\n",
       "\t1 & 140.56250 & 55.68378 & -0.23457141 & -0.6996484 & 3.199833 & 19.11043 &  7.975532 &  74.24222 & 0\\\\\n",
       "\t2 & 102.50781 & 58.88243 &  0.46531815 & -0.5150879 & 1.677258 & 14.86015 & 10.576487 & 127.39358 & 0\\\\\n",
       "\t3 & 103.01562 & 39.34165 &  0.32332837 &  1.0511644 & 3.121237 & 21.74467 &  7.735822 &  63.17191 & 0\\\\\n",
       "\t4 & 136.75000 & 57.17845 & -0.06841464 & -0.6362384 & 3.642977 & 20.95928 &  6.896499 &  53.59366 & 0\\\\\n",
       "\t5 &  88.72656 & 40.67223 &  0.60086608 &  1.1234917 & 1.178930 & 11.46872 & 14.269573 & 252.56731 & 0\\\\\n",
       "\t6 &  93.57031 & 46.69811 &  0.53190485 &  0.4167211 & 1.636288 & 14.54507 & 10.621748 & 131.39400 & 0\\\\\n",
       "\\end{tabular}\n"
      ],
      "text/markdown": [
       "\n",
       "A data.frame: 6 × 9\n",
       "\n",
       "| <!--/--> | X1 &lt;dbl&gt; | X2 &lt;dbl&gt; | X3 &lt;dbl&gt; | X4 &lt;dbl&gt; | X5 &lt;dbl&gt; | X6 &lt;dbl&gt; | X7 &lt;dbl&gt; | X8 &lt;dbl&gt; | X9 &lt;dbl&gt; |\n",
       "|---|---|---|---|---|---|---|---|---|---|\n",
       "| 1 | 140.56250 | 55.68378 | -0.23457141 | -0.6996484 | 3.199833 | 19.11043 |  7.975532 |  74.24222 | 0 |\n",
       "| 2 | 102.50781 | 58.88243 |  0.46531815 | -0.5150879 | 1.677258 | 14.86015 | 10.576487 | 127.39358 | 0 |\n",
       "| 3 | 103.01562 | 39.34165 |  0.32332837 |  1.0511644 | 3.121237 | 21.74467 |  7.735822 |  63.17191 | 0 |\n",
       "| 4 | 136.75000 | 57.17845 | -0.06841464 | -0.6362384 | 3.642977 | 20.95928 |  6.896499 |  53.59366 | 0 |\n",
       "| 5 |  88.72656 | 40.67223 |  0.60086608 |  1.1234917 | 1.178930 | 11.46872 | 14.269573 | 252.56731 | 0 |\n",
       "| 6 |  93.57031 | 46.69811 |  0.53190485 |  0.4167211 | 1.636288 | 14.54507 | 10.621748 | 131.39400 | 0 |\n",
       "\n"
      ],
      "text/plain": [
       "  X1        X2       X3          X4         X5       X6       X7       \n",
       "1 140.56250 55.68378 -0.23457141 -0.6996484 3.199833 19.11043  7.975532\n",
       "2 102.50781 58.88243  0.46531815 -0.5150879 1.677258 14.86015 10.576487\n",
       "3 103.01562 39.34165  0.32332837  1.0511644 3.121237 21.74467  7.735822\n",
       "4 136.75000 57.17845 -0.06841464 -0.6362384 3.642977 20.95928  6.896499\n",
       "5  88.72656 40.67223  0.60086608  1.1234917 1.178930 11.46872 14.269573\n",
       "6  93.57031 46.69811  0.53190485  0.4167211 1.636288 14.54507 10.621748\n",
       "  X8        X9\n",
       "1  74.24222 0 \n",
       "2 127.39358 0 \n",
       "3  63.17191 0 \n",
       "4  53.59366 0 \n",
       "5 252.56731 0 \n",
       "6 131.39400 0 "
      ]
     },
     "metadata": {},
     "output_type": "display_data"
    }
   ],
   "source": [
    "head(as.data.frame(htru2_tbl))\n"
   ]
  },
  {
   "cell_type": "code",
   "execution_count": 63,
   "id": "58f6f2c3",
   "metadata": {
    "vscode": {
     "languageId": "r"
    }
   },
   "outputs": [
    {
     "data": {
      "text/html": [
       "<table class=\"dataframe\">\n",
       "<caption>A tibble: 3 × 3</caption>\n",
       "<thead>\n",
       "\t<tr><th scope=col>Courses</th><th scope=col>Year</th><th scope=col>Major</th></tr>\n",
       "\t<tr><th scope=col>&lt;named list&gt;</th><th scope=col>&lt;chr&gt;</th><th scope=col>&lt;chr&gt;</th></tr>\n",
       "</thead>\n",
       "<tbody>\n",
       "\t<tr><td>203, 204</td><td>U1</td><td>Statistics Major</td></tr>\n",
       "\t<tr><td>323, 324, 447</td><td>U2</td><td>Statistics Major</td></tr>\n",
       "\t<tr><td>208, 427, 423, 523, 545</td><td>U3</td><td>Statistics Major</td></tr>\n",
       "</tbody>\n",
       "</table>\n"
      ],
      "text/latex": [
       "A tibble: 3 × 3\n",
       "\\begin{tabular}{lll}\n",
       " Courses & Year & Major\\\\\n",
       " <named list> & <chr> & <chr>\\\\\n",
       "\\hline\n",
       "\t 203, 204 & U1 & Statistics Major\\\\\n",
       "\t 323, 324, 447 & U2 & Statistics Major\\\\\n",
       "\t 208, 427, 423, 523, 545 & U3 & Statistics Major\\\\\n",
       "\\end{tabular}\n"
      ],
      "text/markdown": [
       "\n",
       "A tibble: 3 × 3\n",
       "\n",
       "| Courses &lt;named list&gt; | Year &lt;chr&gt; | Major &lt;chr&gt; |\n",
       "|---|---|---|\n",
       "| 203, 204 | U1 | Statistics Major |\n",
       "| 323, 324, 447 | U2 | Statistics Major |\n",
       "| 208, 427, 423, 523, 545 | U3 | Statistics Major |\n",
       "\n"
      ],
      "text/plain": [
       "  Courses                 Year Major           \n",
       "1 203, 204                U1   Statistics Major\n",
       "2 323, 324, 447           U2   Statistics Major\n",
       "3 208, 427, 423, 523, 545 U3   Statistics Major"
      ]
     },
     "metadata": {},
     "output_type": "display_data"
    }
   ],
   "source": [
    "mymcgill_stats_tbl <- tibble(\n",
    "    Courses = list(U1 = U1, U2 = U2, U3 = U3),\n",
    "    Year = c(\"U1\", \"U2\", \"U3\"),\n",
    "    Major = rep(\"Statistics Major\", 3)\n",
    ")\n",
    "\n",
    "mymcgill_stats_tbl\n"
   ]
  },
  {
   "cell_type": "code",
   "execution_count": 64,
   "id": "b8d0d620",
   "metadata": {
    "vscode": {
     "languageId": "r"
    }
   },
   "outputs": [
    {
     "data": {
      "text/html": [
       "<style>\n",
       ".list-inline {list-style: none; margin:0; padding: 0}\n",
       ".list-inline>li {display: inline-block}\n",
       ".list-inline>li:not(:last-child)::after {content: \"\\00b7\"; padding: 0 .5ex}\n",
       "</style>\n",
       "<ol class=list-inline><li>'row.names'</li><li>'names'</li><li>'spec'</li><li>'problems'</li><li>'class'</li></ol>\n"
      ],
      "text/latex": [
       "\\begin{enumerate*}\n",
       "\\item 'row.names'\n",
       "\\item 'names'\n",
       "\\item 'spec'\n",
       "\\item 'problems'\n",
       "\\item 'class'\n",
       "\\end{enumerate*}\n"
      ],
      "text/markdown": [
       "1. 'row.names'\n",
       "2. 'names'\n",
       "3. 'spec'\n",
       "4. 'problems'\n",
       "5. 'class'\n",
       "\n",
       "\n"
      ],
      "text/plain": [
       "[1] \"row.names\" \"names\"     \"spec\"      \"problems\"  \"class\"    "
      ]
     },
     "metadata": {},
     "output_type": "display_data"
    }
   ],
   "source": [
    "names(attributes(htru2_tbl))\n"
   ]
  },
  {
   "cell_type": "code",
   "execution_count": 65,
   "id": "456b7e15",
   "metadata": {
    "vscode": {
     "languageId": "r"
    }
   },
   "outputs": [
    {
     "data": {
      "text/html": [
       "<style>\n",
       ".list-inline {list-style: none; margin:0; padding: 0}\n",
       ".list-inline>li {display: inline-block}\n",
       ".list-inline>li:not(:last-child)::after {content: \"\\00b7\"; padding: 0 .5ex}\n",
       "</style>\n",
       "<ol class=list-inline><li>'X1'</li><li>'X2'</li><li>'X3'</li><li>'X4'</li><li>'X5'</li><li>'X6'</li><li>'X7'</li><li>'X8'</li><li>'X9'</li></ol>\n"
      ],
      "text/latex": [
       "\\begin{enumerate*}\n",
       "\\item 'X1'\n",
       "\\item 'X2'\n",
       "\\item 'X3'\n",
       "\\item 'X4'\n",
       "\\item 'X5'\n",
       "\\item 'X6'\n",
       "\\item 'X7'\n",
       "\\item 'X8'\n",
       "\\item 'X9'\n",
       "\\end{enumerate*}\n"
      ],
      "text/markdown": [
       "1. 'X1'\n",
       "2. 'X2'\n",
       "3. 'X3'\n",
       "4. 'X4'\n",
       "5. 'X5'\n",
       "6. 'X6'\n",
       "7. 'X7'\n",
       "8. 'X8'\n",
       "9. 'X9'\n",
       "\n",
       "\n"
      ],
      "text/plain": [
       "[1] \"X1\" \"X2\" \"X3\" \"X4\" \"X5\" \"X6\" \"X7\" \"X8\" \"X9\""
      ]
     },
     "metadata": {},
     "output_type": "display_data"
    }
   ],
   "source": [
    "attributes(htru2_tbl)$names\n"
   ]
  },
  {
   "cell_type": "code",
   "execution_count": 66,
   "id": "0d263ad5",
   "metadata": {
    "vscode": {
     "languageId": "r"
    }
   },
   "outputs": [
    {
     "name": "stdout",
     "output_type": "stream",
     "text": [
      "\u001b[90m# A tibble: 17,898 × 9\u001b[39m\n",
      "      X1    X2      X3     X4    X5    X6    X7    X8    X9\n",
      "   \u001b[3m\u001b[90m<dbl>\u001b[39m\u001b[23m \u001b[3m\u001b[90m<dbl>\u001b[39m\u001b[23m   \u001b[3m\u001b[90m<dbl>\u001b[39m\u001b[23m  \u001b[3m\u001b[90m<dbl>\u001b[39m\u001b[23m \u001b[3m\u001b[90m<dbl>\u001b[39m\u001b[23m \u001b[3m\u001b[90m<dbl>\u001b[39m\u001b[23m \u001b[3m\u001b[90m<dbl>\u001b[39m\u001b[23m \u001b[3m\u001b[90m<dbl>\u001b[39m\u001b[23m \u001b[3m\u001b[90m<dbl>\u001b[39m\u001b[23m\n",
      "\u001b[90m 1\u001b[39m 141.   55.7 -\u001b[31m0\u001b[39m\u001b[31m.\u001b[39m\u001b[31m235\u001b[39m  -\u001b[31m0\u001b[39m\u001b[31m.\u001b[39m\u001b[31m700\u001b[39m 3.20  19.1   7.98  74.2     0\n",
      "\u001b[90m 2\u001b[39m 103.   58.9  0.465  -\u001b[31m0\u001b[39m\u001b[31m.\u001b[39m\u001b[31m515\u001b[39m 1.68  14.9  10.6  127.      0\n",
      "\u001b[90m 3\u001b[39m 103.   39.3  0.323   1.05  3.12  21.7   7.74  63.2     0\n",
      "\u001b[90m 4\u001b[39m 137.   57.2 -\u001b[31m0\u001b[39m\u001b[31m.\u001b[39m\u001b[31m0\u001b[39m\u001b[31m68\u001b[4m4\u001b[24m\u001b[39m -\u001b[31m0\u001b[39m\u001b[31m.\u001b[39m\u001b[31m636\u001b[39m 3.64  21.0   6.90  53.6     0\n",
      "\u001b[90m 5\u001b[39m  88.7  40.7  0.601   1.12  1.18  11.5  14.3  253.      0\n",
      "\u001b[90m 6\u001b[39m  93.6  46.7  0.532   0.417 1.64  14.5  10.6  131.      0\n",
      "\u001b[90m 7\u001b[39m 119.   48.8  0.031\u001b[4m5\u001b[24m -\u001b[31m0\u001b[39m\u001b[31m.\u001b[39m\u001b[31m112\u001b[39m 0.999  9.28 19.2  480.      0\n",
      "\u001b[90m 8\u001b[39m 130.   39.8 -\u001b[31m0\u001b[39m\u001b[31m.\u001b[39m\u001b[31m158\u001b[39m   0.390 1.22  14.4  13.5  198.      0\n",
      "\u001b[90m 9\u001b[39m 107.   52.6  0.453   0.170 2.33  14.5   9.00 108.      0\n",
      "\u001b[90m10\u001b[39m 107.   39.5  0.466   1.16  4.08  25.0   7.40  57.8     0\n",
      "\u001b[90m# … with 17,888 more rows\u001b[39m\n"
     ]
    }
   ],
   "source": [
    "print(htru2_tbl)\n"
   ]
  },
  {
   "cell_type": "code",
   "execution_count": 67,
   "id": "bf65dab8",
   "metadata": {
    "vscode": {
     "languageId": "r"
    }
   },
   "outputs": [
    {
     "name": "stdout",
     "output_type": "stream",
     "text": [
      "\u001b[90m# A tibble: 17,898 × 9\u001b[39m\n",
      "   Mean_IP SD_IP   EK_IP SKW_IP Mean_DMSNR SD_DMSNR EK_DMSNR SKW_DMSNR Class\n",
      "     \u001b[3m\u001b[90m<dbl>\u001b[39m\u001b[23m \u001b[3m\u001b[90m<dbl>\u001b[39m\u001b[23m   \u001b[3m\u001b[90m<dbl>\u001b[39m\u001b[23m  \u001b[3m\u001b[90m<dbl>\u001b[39m\u001b[23m      \u001b[3m\u001b[90m<dbl>\u001b[39m\u001b[23m    \u001b[3m\u001b[90m<dbl>\u001b[39m\u001b[23m    \u001b[3m\u001b[90m<dbl>\u001b[39m\u001b[23m     \u001b[3m\u001b[90m<dbl>\u001b[39m\u001b[23m \u001b[3m\u001b[90m<dbl>\u001b[39m\u001b[23m\n",
      "\u001b[90m 1\u001b[39m   141.   55.7 -\u001b[31m0\u001b[39m\u001b[31m.\u001b[39m\u001b[31m235\u001b[39m  -\u001b[31m0\u001b[39m\u001b[31m.\u001b[39m\u001b[31m700\u001b[39m      3.20     19.1      7.98      74.2     0\n",
      "\u001b[90m 2\u001b[39m   103.   58.9  0.465  -\u001b[31m0\u001b[39m\u001b[31m.\u001b[39m\u001b[31m515\u001b[39m      1.68     14.9     10.6      127.      0\n",
      "\u001b[90m 3\u001b[39m   103.   39.3  0.323   1.05       3.12     21.7      7.74      63.2     0\n",
      "\u001b[90m 4\u001b[39m   137.   57.2 -\u001b[31m0\u001b[39m\u001b[31m.\u001b[39m\u001b[31m0\u001b[39m\u001b[31m68\u001b[4m4\u001b[24m\u001b[39m -\u001b[31m0\u001b[39m\u001b[31m.\u001b[39m\u001b[31m636\u001b[39m      3.64     21.0      6.90      53.6     0\n",
      "\u001b[90m 5\u001b[39m    88.7  40.7  0.601   1.12       1.18     11.5     14.3      253.      0\n",
      "\u001b[90m 6\u001b[39m    93.6  46.7  0.532   0.417      1.64     14.5     10.6      131.      0\n",
      "\u001b[90m 7\u001b[39m   119.   48.8  0.031\u001b[4m5\u001b[24m -\u001b[31m0\u001b[39m\u001b[31m.\u001b[39m\u001b[31m112\u001b[39m      0.999     9.28    19.2      480.      0\n",
      "\u001b[90m 8\u001b[39m   130.   39.8 -\u001b[31m0\u001b[39m\u001b[31m.\u001b[39m\u001b[31m158\u001b[39m   0.390      1.22     14.4     13.5      198.      0\n",
      "\u001b[90m 9\u001b[39m   107.   52.6  0.453   0.170      2.33     14.5      9.00     108.      0\n",
      "\u001b[90m10\u001b[39m   107.   39.5  0.466   1.16       4.08     25.0      7.40      57.8     0\n",
      "\u001b[90m# … with 17,888 more rows\u001b[39m\n"
     ]
    }
   ],
   "source": [
    "names(htru2_tbl) <- c(\"Mean_IP\", \"SD_IP\", \"EK_IP\", \"SKW_IP\", \"Mean_DMSNR\", \"SD_DMSNR\", \"EK_DMSNR\", \"SKW_DMSNR\", \"Class\")\n",
    "print(htru2_tbl)\n"
   ]
  },
  {
   "cell_type": "markdown",
   "id": "914fe012",
   "metadata": {},
   "source": [
    "# Subsetting\n"
   ]
  },
  {
   "cell_type": "code",
   "execution_count": 68,
   "id": "3b550fd8",
   "metadata": {
    "vscode": {
     "languageId": "r"
    }
   },
   "outputs": [
    {
     "data": {
      "text/html": [
       "<style>\n",
       ".list-inline {list-style: none; margin:0; padding: 0}\n",
       ".list-inline>li {display: inline-block}\n",
       ".list-inline>li:not(:last-child)::after {content: \"\\00b7\"; padding: 0 .5ex}\n",
       "</style>\n",
       "<ol class=list-inline><li>52</li><li>51</li><li>60</li><li>64</li><li>69</li><li>74</li><li>78</li><li>84</li><li>86</li><li>96</li><li>104</li><li>112</li><li>118</li><li>125</li><li>132</li><li>135</li></ol>\n"
      ],
      "text/latex": [
       "\\begin{enumerate*}\n",
       "\\item 52\n",
       "\\item 51\n",
       "\\item 60\n",
       "\\item 64\n",
       "\\item 69\n",
       "\\item 74\n",
       "\\item 78\n",
       "\\item 84\n",
       "\\item 86\n",
       "\\item 96\n",
       "\\item 104\n",
       "\\item 112\n",
       "\\item 118\n",
       "\\item 125\n",
       "\\item 132\n",
       "\\item 135\n",
       "\\end{enumerate*}\n"
      ],
      "text/markdown": [
       "1. 52\n",
       "2. 51\n",
       "3. 60\n",
       "4. 64\n",
       "5. 69\n",
       "6. 74\n",
       "7. 78\n",
       "8. 84\n",
       "9. 86\n",
       "10. 96\n",
       "11. 104\n",
       "12. 112\n",
       "13. 118\n",
       "14. 125\n",
       "15. 132\n",
       "16. 135\n",
       "\n",
       "\n"
      ],
      "text/plain": [
       " [1]  52  51  60  64  69  74  78  84  86  96 104 112 118 125 132 135"
      ]
     },
     "metadata": {},
     "output_type": "display_data"
    }
   ],
   "source": [
    "Lengths_A # Subsetting vector\n"
   ]
  },
  {
   "cell_type": "code",
   "execution_count": 69,
   "id": "41b46580",
   "metadata": {
    "vscode": {
     "languageId": "r"
    }
   },
   "outputs": [
    {
     "data": {
      "text/html": [
       "<style>\n",
       ".list-inline {list-style: none; margin:0; padding: 0}\n",
       ".list-inline>li {display: inline-block}\n",
       ".list-inline>li:not(:last-child)::after {content: \"\\00b7\"; padding: 0 .5ex}\n",
       "</style>\n",
       "<ol class=list-inline><li>52</li><li>51</li><li>69</li></ol>\n"
      ],
      "text/latex": [
       "\\begin{enumerate*}\n",
       "\\item 52\n",
       "\\item 51\n",
       "\\item 69\n",
       "\\end{enumerate*}\n"
      ],
      "text/markdown": [
       "1. 52\n",
       "2. 51\n",
       "3. 69\n",
       "\n",
       "\n"
      ],
      "text/plain": [
       "[1] 52 51 69"
      ]
     },
     "metadata": {},
     "output_type": "display_data"
    }
   ],
   "source": [
    "Lengths_A[c(1, 2, 5)] # subsetting by index\n"
   ]
  },
  {
   "cell_type": "code",
   "execution_count": 70,
   "id": "838c3395",
   "metadata": {
    "vscode": {
     "languageId": "r"
    }
   },
   "outputs": [
    {
     "data": {
      "text/html": [
       "<style>\n",
       ".list-inline {list-style: none; margin:0; padding: 0}\n",
       ".list-inline>li {display: inline-block}\n",
       ".list-inline>li:not(:last-child)::after {content: \"\\00b7\"; padding: 0 .5ex}\n",
       "</style>\n",
       "<ol class=list-inline><li>FALSE</li><li>FALSE</li><li>FALSE</li><li>FALSE</li><li>FALSE</li><li>FALSE</li><li>FALSE</li><li>FALSE</li><li>FALSE</li><li>FALSE</li><li>TRUE</li><li>TRUE</li><li>TRUE</li><li>TRUE</li><li>TRUE</li><li>TRUE</li></ol>\n"
      ],
      "text/latex": [
       "\\begin{enumerate*}\n",
       "\\item FALSE\n",
       "\\item FALSE\n",
       "\\item FALSE\n",
       "\\item FALSE\n",
       "\\item FALSE\n",
       "\\item FALSE\n",
       "\\item FALSE\n",
       "\\item FALSE\n",
       "\\item FALSE\n",
       "\\item FALSE\n",
       "\\item TRUE\n",
       "\\item TRUE\n",
       "\\item TRUE\n",
       "\\item TRUE\n",
       "\\item TRUE\n",
       "\\item TRUE\n",
       "\\end{enumerate*}\n"
      ],
      "text/markdown": [
       "1. FALSE\n",
       "2. FALSE\n",
       "3. FALSE\n",
       "4. FALSE\n",
       "5. FALSE\n",
       "6. FALSE\n",
       "7. FALSE\n",
       "8. FALSE\n",
       "9. FALSE\n",
       "10. FALSE\n",
       "11. TRUE\n",
       "12. TRUE\n",
       "13. TRUE\n",
       "14. TRUE\n",
       "15. TRUE\n",
       "16. TRUE\n",
       "\n",
       "\n"
      ],
      "text/plain": [
       " [1] FALSE FALSE FALSE FALSE FALSE FALSE FALSE FALSE FALSE FALSE  TRUE  TRUE\n",
       "[13]  TRUE  TRUE  TRUE  TRUE"
      ]
     },
     "metadata": {},
     "output_type": "display_data"
    }
   ],
   "source": [
    "Lengths_A > 100\n"
   ]
  },
  {
   "cell_type": "code",
   "execution_count": 71,
   "id": "489032d1",
   "metadata": {
    "vscode": {
     "languageId": "r"
    }
   },
   "outputs": [
    {
     "data": {
      "text/html": [
       "<style>\n",
       ".list-inline {list-style: none; margin:0; padding: 0}\n",
       ".list-inline>li {display: inline-block}\n",
       ".list-inline>li:not(:last-child)::after {content: \"\\00b7\"; padding: 0 .5ex}\n",
       "</style>\n",
       "<ol class=list-inline><li>104</li><li>112</li><li>118</li><li>125</li><li>132</li><li>135</li></ol>\n"
      ],
      "text/latex": [
       "\\begin{enumerate*}\n",
       "\\item 104\n",
       "\\item 112\n",
       "\\item 118\n",
       "\\item 125\n",
       "\\item 132\n",
       "\\item 135\n",
       "\\end{enumerate*}\n"
      ],
      "text/markdown": [
       "1. 104\n",
       "2. 112\n",
       "3. 118\n",
       "4. 125\n",
       "5. 132\n",
       "6. 135\n",
       "\n",
       "\n"
      ],
      "text/plain": [
       "[1] 104 112 118 125 132 135"
      ]
     },
     "metadata": {},
     "output_type": "display_data"
    }
   ],
   "source": [
    "Lengths_A[Lengths_A > 100]\n"
   ]
  },
  {
   "cell_type": "code",
   "execution_count": 72,
   "id": "a1b1a7cb",
   "metadata": {
    "vscode": {
     "languageId": "r"
    }
   },
   "outputs": [
    {
     "data": {
      "text/html": [
       "<dl>\n",
       "\t<dt>$U1</dt>\n",
       "\t\t<dd><style>\n",
       ".list-inline {list-style: none; margin:0; padding: 0}\n",
       ".list-inline>li {display: inline-block}\n",
       ".list-inline>li:not(:last-child)::after {content: \"\\00b7\"; padding: 0 .5ex}\n",
       "</style>\n",
       "<ol class=list-inline><li>203</li><li>204</li></ol>\n",
       "</dd>\n",
       "\t<dt>$U2</dt>\n",
       "\t\t<dd><style>\n",
       ".list-inline {list-style: none; margin:0; padding: 0}\n",
       ".list-inline>li {display: inline-block}\n",
       ".list-inline>li:not(:last-child)::after {content: \"\\00b7\"; padding: 0 .5ex}\n",
       "</style>\n",
       "<ol class=list-inline><li>323</li><li>324</li><li>447</li></ol>\n",
       "</dd>\n",
       "\t<dt>$U3</dt>\n",
       "\t\t<dd><style>\n",
       ".list-inline {list-style: none; margin:0; padding: 0}\n",
       ".list-inline>li {display: inline-block}\n",
       ".list-inline>li:not(:last-child)::after {content: \"\\00b7\"; padding: 0 .5ex}\n",
       "</style>\n",
       "<ol class=list-inline><li>208</li><li>427</li><li>423</li><li>523</li><li>545</li></ol>\n",
       "</dd>\n",
       "\t<dt>$Major</dt>\n",
       "\t\t<dd>'Statistics Major'</dd>\n",
       "</dl>\n"
      ],
      "text/latex": [
       "\\begin{description}\n",
       "\\item[\\$U1] \\begin{enumerate*}\n",
       "\\item 203\n",
       "\\item 204\n",
       "\\end{enumerate*}\n",
       "\n",
       "\\item[\\$U2] \\begin{enumerate*}\n",
       "\\item 323\n",
       "\\item 324\n",
       "\\item 447\n",
       "\\end{enumerate*}\n",
       "\n",
       "\\item[\\$U3] \\begin{enumerate*}\n",
       "\\item 208\n",
       "\\item 427\n",
       "\\item 423\n",
       "\\item 523\n",
       "\\item 545\n",
       "\\end{enumerate*}\n",
       "\n",
       "\\item[\\$Major] 'Statistics Major'\n",
       "\\end{description}\n"
      ],
      "text/markdown": [
       "$U1\n",
       ":   1. 203\n",
       "2. 204\n",
       "\n",
       "\n",
       "\n",
       "$U2\n",
       ":   1. 323\n",
       "2. 324\n",
       "3. 447\n",
       "\n",
       "\n",
       "\n",
       "$U3\n",
       ":   1. 208\n",
       "2. 427\n",
       "3. 423\n",
       "4. 523\n",
       "5. 545\n",
       "\n",
       "\n",
       "\n",
       "$Major\n",
       ":   'Statistics Major'\n",
       "\n",
       "\n"
      ],
      "text/plain": [
       "$U1\n",
       "[1] 203 204\n",
       "\n",
       "$U2\n",
       "[1] 323 324 447\n",
       "\n",
       "$U3\n",
       "[1] 208 427 423 523 545\n",
       "\n",
       "$Major\n",
       "[1] \"Statistics Major\"\n"
      ]
     },
     "metadata": {},
     "output_type": "display_data"
    }
   ],
   "source": [
    "mymcgill_stats # Subsetting list\n"
   ]
  },
  {
   "cell_type": "code",
   "execution_count": 73,
   "id": "33a5e1b8",
   "metadata": {
    "vscode": {
     "languageId": "r"
    }
   },
   "outputs": [
    {
     "data": {
      "text/html": [
       "<dl>\n",
       "\t<dt>$U1</dt>\n",
       "\t\t<dd><style>\n",
       ".list-inline {list-style: none; margin:0; padding: 0}\n",
       ".list-inline>li {display: inline-block}\n",
       ".list-inline>li:not(:last-child)::after {content: \"\\00b7\"; padding: 0 .5ex}\n",
       "</style>\n",
       "<ol class=list-inline><li>203</li><li>204</li></ol>\n",
       "</dd>\n",
       "\t<dt>$U3</dt>\n",
       "\t\t<dd><style>\n",
       ".list-inline {list-style: none; margin:0; padding: 0}\n",
       ".list-inline>li {display: inline-block}\n",
       ".list-inline>li:not(:last-child)::after {content: \"\\00b7\"; padding: 0 .5ex}\n",
       "</style>\n",
       "<ol class=list-inline><li>208</li><li>427</li><li>423</li><li>523</li><li>545</li></ol>\n",
       "</dd>\n",
       "</dl>\n"
      ],
      "text/latex": [
       "\\begin{description}\n",
       "\\item[\\$U1] \\begin{enumerate*}\n",
       "\\item 203\n",
       "\\item 204\n",
       "\\end{enumerate*}\n",
       "\n",
       "\\item[\\$U3] \\begin{enumerate*}\n",
       "\\item 208\n",
       "\\item 427\n",
       "\\item 423\n",
       "\\item 523\n",
       "\\item 545\n",
       "\\end{enumerate*}\n",
       "\n",
       "\\end{description}\n"
      ],
      "text/markdown": [
       "$U1\n",
       ":   1. 203\n",
       "2. 204\n",
       "\n",
       "\n",
       "\n",
       "$U3\n",
       ":   1. 208\n",
       "2. 427\n",
       "3. 423\n",
       "4. 523\n",
       "5. 545\n",
       "\n",
       "\n",
       "\n",
       "\n",
       "\n"
      ],
      "text/plain": [
       "$U1\n",
       "[1] 203 204\n",
       "\n",
       "$U3\n",
       "[1] 208 427 423 523 545\n"
      ]
     },
     "metadata": {},
     "output_type": "display_data"
    }
   ],
   "source": [
    "mymcgill_stats[c(1, 3)]\n"
   ]
  },
  {
   "cell_type": "code",
   "execution_count": 74,
   "id": "5c63b9ec",
   "metadata": {
    "vscode": {
     "languageId": "r"
    }
   },
   "outputs": [
    {
     "data": {
      "text/html": [
       "<dl>\n",
       "\t<dt>$U1</dt>\n",
       "\t\t<dd>2</dd>\n",
       "\t<dt>$U2</dt>\n",
       "\t\t<dd>3</dd>\n",
       "\t<dt>$U3</dt>\n",
       "\t\t<dd>5</dd>\n",
       "\t<dt>$Major</dt>\n",
       "\t\t<dd>1</dd>\n",
       "</dl>\n"
      ],
      "text/latex": [
       "\\begin{description}\n",
       "\\item[\\$U1] 2\n",
       "\\item[\\$U2] 3\n",
       "\\item[\\$U3] 5\n",
       "\\item[\\$Major] 1\n",
       "\\end{description}\n"
      ],
      "text/markdown": [
       "$U1\n",
       ":   2\n",
       "$U2\n",
       ":   3\n",
       "$U3\n",
       ":   5\n",
       "$Major\n",
       ":   1\n",
       "\n",
       "\n"
      ],
      "text/plain": [
       "$U1\n",
       "[1] 2\n",
       "\n",
       "$U2\n",
       "[1] 3\n",
       "\n",
       "$U3\n",
       "[1] 5\n",
       "\n",
       "$Major\n",
       "[1] 1\n"
      ]
     },
     "metadata": {},
     "output_type": "display_data"
    }
   ],
   "source": [
    "lapply(mymcgill_stats, length)\n"
   ]
  },
  {
   "cell_type": "code",
   "execution_count": 75,
   "id": "2b4ae479",
   "metadata": {
    "vscode": {
     "languageId": "r"
    }
   },
   "outputs": [
    {
     "data": {
      "text/html": [
       "<style>\n",
       ".dl-inline {width: auto; margin:0; padding: 0}\n",
       ".dl-inline>dt, .dl-inline>dd {float: none; width: auto; display: inline-block}\n",
       ".dl-inline>dt::after {content: \":\\0020\"; padding-right: .5ex}\n",
       ".dl-inline>dt:not(:first-of-type) {padding-left: .5ex}\n",
       "</style><dl class=dl-inline><dt>U1</dt><dd>TRUE</dd><dt>U2</dt><dd>TRUE</dd><dt>U3</dt><dd>FALSE</dd><dt>Major</dt><dd>TRUE</dd></dl>\n"
      ],
      "text/latex": [
       "\\begin{description*}\n",
       "\\item[U1] TRUE\n",
       "\\item[U2] TRUE\n",
       "\\item[U3] FALSE\n",
       "\\item[Major] TRUE\n",
       "\\end{description*}\n"
      ],
      "text/markdown": [
       "U1\n",
       ":   TRUEU2\n",
       ":   TRUEU3\n",
       ":   FALSEMajor\n",
       ":   TRUE\n",
       "\n"
      ],
      "text/plain": [
       "   U1    U2    U3 Major \n",
       " TRUE  TRUE FALSE  TRUE "
      ]
     },
     "metadata": {},
     "output_type": "display_data"
    }
   ],
   "source": [
    "lapply(mymcgill_stats, length) < 4\n"
   ]
  },
  {
   "cell_type": "code",
   "execution_count": 76,
   "id": "d03b7c62",
   "metadata": {
    "vscode": {
     "languageId": "r"
    }
   },
   "outputs": [
    {
     "data": {
      "text/html": [
       "<dl>\n",
       "\t<dt>$U1</dt>\n",
       "\t\t<dd><style>\n",
       ".list-inline {list-style: none; margin:0; padding: 0}\n",
       ".list-inline>li {display: inline-block}\n",
       ".list-inline>li:not(:last-child)::after {content: \"\\00b7\"; padding: 0 .5ex}\n",
       "</style>\n",
       "<ol class=list-inline><li>203</li><li>204</li></ol>\n",
       "</dd>\n",
       "\t<dt>$U2</dt>\n",
       "\t\t<dd><style>\n",
       ".list-inline {list-style: none; margin:0; padding: 0}\n",
       ".list-inline>li {display: inline-block}\n",
       ".list-inline>li:not(:last-child)::after {content: \"\\00b7\"; padding: 0 .5ex}\n",
       "</style>\n",
       "<ol class=list-inline><li>323</li><li>324</li><li>447</li></ol>\n",
       "</dd>\n",
       "\t<dt>$Major</dt>\n",
       "\t\t<dd>'Statistics Major'</dd>\n",
       "</dl>\n"
      ],
      "text/latex": [
       "\\begin{description}\n",
       "\\item[\\$U1] \\begin{enumerate*}\n",
       "\\item 203\n",
       "\\item 204\n",
       "\\end{enumerate*}\n",
       "\n",
       "\\item[\\$U2] \\begin{enumerate*}\n",
       "\\item 323\n",
       "\\item 324\n",
       "\\item 447\n",
       "\\end{enumerate*}\n",
       "\n",
       "\\item[\\$Major] 'Statistics Major'\n",
       "\\end{description}\n"
      ],
      "text/markdown": [
       "$U1\n",
       ":   1. 203\n",
       "2. 204\n",
       "\n",
       "\n",
       "\n",
       "$U2\n",
       ":   1. 323\n",
       "2. 324\n",
       "3. 447\n",
       "\n",
       "\n",
       "\n",
       "$Major\n",
       ":   'Statistics Major'\n",
       "\n",
       "\n"
      ],
      "text/plain": [
       "$U1\n",
       "[1] 203 204\n",
       "\n",
       "$U2\n",
       "[1] 323 324 447\n",
       "\n",
       "$Major\n",
       "[1] \"Statistics Major\"\n"
      ]
     },
     "metadata": {},
     "output_type": "display_data"
    }
   ],
   "source": [
    "mymcgill_stats[lapply(mymcgill_stats, length) < 4]\n"
   ]
  },
  {
   "cell_type": "code",
   "execution_count": 77,
   "id": "56eebccc",
   "metadata": {
    "vscode": {
     "languageId": "r"
    }
   },
   "outputs": [],
   "source": [
    "matrix3x4 <- matrix(1:12, ncol = 4, nrow = 3)\n"
   ]
  },
  {
   "cell_type": "code",
   "execution_count": 78,
   "id": "0f4dd6b7",
   "metadata": {
    "vscode": {
     "languageId": "r"
    }
   },
   "outputs": [
    {
     "data": {
      "text/html": [
       "<table class=\"dataframe\">\n",
       "<caption>A matrix: 3 × 4 of type int</caption>\n",
       "<tbody>\n",
       "\t<tr><td>1</td><td>4</td><td>7</td><td>10</td></tr>\n",
       "\t<tr><td>2</td><td>5</td><td>8</td><td>11</td></tr>\n",
       "\t<tr><td>3</td><td>6</td><td>9</td><td>12</td></tr>\n",
       "</tbody>\n",
       "</table>\n"
      ],
      "text/latex": [
       "A matrix: 3 × 4 of type int\n",
       "\\begin{tabular}{llll}\n",
       "\t 1 & 4 & 7 & 10\\\\\n",
       "\t 2 & 5 & 8 & 11\\\\\n",
       "\t 3 & 6 & 9 & 12\\\\\n",
       "\\end{tabular}\n"
      ],
      "text/markdown": [
       "\n",
       "A matrix: 3 × 4 of type int\n",
       "\n",
       "| 1 | 4 | 7 | 10 |\n",
       "| 2 | 5 | 8 | 11 |\n",
       "| 3 | 6 | 9 | 12 |\n",
       "\n"
      ],
      "text/plain": [
       "     [,1] [,2] [,3] [,4]\n",
       "[1,] 1    4    7    10  \n",
       "[2,] 2    5    8    11  \n",
       "[3,] 3    6    9    12  "
      ]
     },
     "metadata": {},
     "output_type": "display_data"
    }
   ],
   "source": [
    "matrix3x4\n"
   ]
  },
  {
   "cell_type": "code",
   "execution_count": 79,
   "id": "2fcadadf",
   "metadata": {
    "vscode": {
     "languageId": "r"
    }
   },
   "outputs": [],
   "source": [
    "matrix3x4 <- matrix(c(1:12), ncol = 4, nrow = 3, byrow = T)\n"
   ]
  },
  {
   "cell_type": "code",
   "execution_count": 80,
   "id": "7f9ba987",
   "metadata": {
    "vscode": {
     "languageId": "r"
    }
   },
   "outputs": [
    {
     "data": {
      "text/html": [
       "<table class=\"dataframe\">\n",
       "<caption>A matrix: 3 × 4 of type int</caption>\n",
       "<tbody>\n",
       "\t<tr><td>1</td><td> 2</td><td> 3</td><td> 4</td></tr>\n",
       "\t<tr><td>5</td><td> 6</td><td> 7</td><td> 8</td></tr>\n",
       "\t<tr><td>9</td><td>10</td><td>11</td><td>12</td></tr>\n",
       "</tbody>\n",
       "</table>\n"
      ],
      "text/latex": [
       "A matrix: 3 × 4 of type int\n",
       "\\begin{tabular}{llll}\n",
       "\t 1 &  2 &  3 &  4\\\\\n",
       "\t 5 &  6 &  7 &  8\\\\\n",
       "\t 9 & 10 & 11 & 12\\\\\n",
       "\\end{tabular}\n"
      ],
      "text/markdown": [
       "\n",
       "A matrix: 3 × 4 of type int\n",
       "\n",
       "| 1 |  2 |  3 |  4 |\n",
       "| 5 |  6 |  7 |  8 |\n",
       "| 9 | 10 | 11 | 12 |\n",
       "\n"
      ],
      "text/plain": [
       "     [,1] [,2] [,3] [,4]\n",
       "[1,] 1     2    3    4  \n",
       "[2,] 5     6    7    8  \n",
       "[3,] 9    10   11   12  "
      ]
     },
     "metadata": {},
     "output_type": "display_data"
    }
   ],
   "source": [
    "matrix3x4\n"
   ]
  },
  {
   "cell_type": "code",
   "execution_count": 81,
   "id": "f48a4cfd",
   "metadata": {
    "vscode": {
     "languageId": "r"
    }
   },
   "outputs": [
    {
     "data": {
      "text/html": [
       "9"
      ],
      "text/latex": [
       "9"
      ],
      "text/markdown": [
       "9"
      ],
      "text/plain": [
       "[1] 9"
      ]
     },
     "metadata": {},
     "output_type": "display_data"
    }
   ],
   "source": [
    "matrix3x4[3, 1]\n"
   ]
  },
  {
   "cell_type": "code",
   "execution_count": 82,
   "id": "34f02343",
   "metadata": {
    "vscode": {
     "languageId": "r"
    }
   },
   "outputs": [
    {
     "data": {
      "text/html": [
       "<table class=\"dataframe\">\n",
       "<caption>A matrix: 3 × 3 of type int</caption>\n",
       "<tbody>\n",
       "\t<tr><td>1</td><td> 2</td><td> 3</td></tr>\n",
       "\t<tr><td>5</td><td> 6</td><td> 7</td></tr>\n",
       "\t<tr><td>9</td><td>10</td><td>11</td></tr>\n",
       "</tbody>\n",
       "</table>\n"
      ],
      "text/latex": [
       "A matrix: 3 × 3 of type int\n",
       "\\begin{tabular}{lll}\n",
       "\t 1 &  2 &  3\\\\\n",
       "\t 5 &  6 &  7\\\\\n",
       "\t 9 & 10 & 11\\\\\n",
       "\\end{tabular}\n"
      ],
      "text/markdown": [
       "\n",
       "A matrix: 3 × 3 of type int\n",
       "\n",
       "| 1 |  2 |  3 |\n",
       "| 5 |  6 |  7 |\n",
       "| 9 | 10 | 11 |\n",
       "\n"
      ],
      "text/plain": [
       "     [,1] [,2] [,3]\n",
       "[1,] 1     2    3  \n",
       "[2,] 5     6    7  \n",
       "[3,] 9    10   11  "
      ]
     },
     "metadata": {},
     "output_type": "display_data"
    }
   ],
   "source": [
    "matrix3x4[, c(1:3)] # Subsetting[<Row>,<Col>]\n"
   ]
  },
  {
   "cell_type": "code",
   "execution_count": 83,
   "id": "1d2552cb",
   "metadata": {
    "vscode": {
     "languageId": "r"
    }
   },
   "outputs": [
    {
     "data": {
      "text/html": [
       "<table class=\"dataframe\">\n",
       "<caption>A matrix: 2 × 2 of type int</caption>\n",
       "<tbody>\n",
       "\t<tr><td> 7</td><td> 8</td></tr>\n",
       "\t<tr><td>11</td><td>12</td></tr>\n",
       "</tbody>\n",
       "</table>\n"
      ],
      "text/latex": [
       "A matrix: 2 × 2 of type int\n",
       "\\begin{tabular}{ll}\n",
       "\t  7 &  8\\\\\n",
       "\t 11 & 12\\\\\n",
       "\\end{tabular}\n"
      ],
      "text/markdown": [
       "\n",
       "A matrix: 2 × 2 of type int\n",
       "\n",
       "|  7 |  8 |\n",
       "| 11 | 12 |\n",
       "\n"
      ],
      "text/plain": [
       "     [,1] [,2]\n",
       "[1,]  7    8  \n",
       "[2,] 11   12  "
      ]
     },
     "metadata": {},
     "output_type": "display_data"
    }
   ],
   "source": [
    "matrix3x4[c(2, 3), c(3:4)] # Subsetting[<Row>,<Col>]\n"
   ]
  },
  {
   "cell_type": "code",
   "execution_count": 84,
   "id": "606e0680",
   "metadata": {
    "vscode": {
     "languageId": "r"
    }
   },
   "outputs": [
    {
     "data": {
      "text/html": [
       "<table class=\"dataframe\">\n",
       "<caption>A matrix: 2 × 2 of type int</caption>\n",
       "<tbody>\n",
       "\t<tr><td> 7</td><td> 8</td></tr>\n",
       "\t<tr><td>11</td><td>12</td></tr>\n",
       "</tbody>\n",
       "</table>\n"
      ],
      "text/latex": [
       "A matrix: 2 × 2 of type int\n",
       "\\begin{tabular}{ll}\n",
       "\t  7 &  8\\\\\n",
       "\t 11 & 12\\\\\n",
       "\\end{tabular}\n"
      ],
      "text/markdown": [
       "\n",
       "A matrix: 2 × 2 of type int\n",
       "\n",
       "|  7 |  8 |\n",
       "| 11 | 12 |\n",
       "\n"
      ],
      "text/plain": [
       "     [,1] [,2]\n",
       "[1,]  7    8  \n",
       "[2,] 11   12  "
      ]
     },
     "metadata": {},
     "output_type": "display_data"
    }
   ],
   "source": [
    "matrix3x4[c(FALSE, TRUE, TRUE), c(FALSE, FALSE, TRUE, TRUE)]\n"
   ]
  },
  {
   "cell_type": "code",
   "execution_count": 85,
   "id": "1b4c5e3d",
   "metadata": {
    "vscode": {
     "languageId": "r"
    }
   },
   "outputs": [
    {
     "data": {
      "text/html": [
       "<table class=\"dataframe\">\n",
       "<caption>A matrix: 3 × 4 of type lgl</caption>\n",
       "<tbody>\n",
       "\t<tr><td>FALSE</td><td>TRUE</td><td>FALSE</td><td>TRUE</td></tr>\n",
       "\t<tr><td>FALSE</td><td>TRUE</td><td>FALSE</td><td>TRUE</td></tr>\n",
       "\t<tr><td>FALSE</td><td>TRUE</td><td>FALSE</td><td>TRUE</td></tr>\n",
       "</tbody>\n",
       "</table>\n"
      ],
      "text/latex": [
       "A matrix: 3 × 4 of type lgl\n",
       "\\begin{tabular}{llll}\n",
       "\t FALSE & TRUE & FALSE & TRUE\\\\\n",
       "\t FALSE & TRUE & FALSE & TRUE\\\\\n",
       "\t FALSE & TRUE & FALSE & TRUE\\\\\n",
       "\\end{tabular}\n"
      ],
      "text/markdown": [
       "\n",
       "A matrix: 3 × 4 of type lgl\n",
       "\n",
       "| FALSE | TRUE | FALSE | TRUE |\n",
       "| FALSE | TRUE | FALSE | TRUE |\n",
       "| FALSE | TRUE | FALSE | TRUE |\n",
       "\n"
      ],
      "text/plain": [
       "     [,1]  [,2] [,3]  [,4]\n",
       "[1,] FALSE TRUE FALSE TRUE\n",
       "[2,] FALSE TRUE FALSE TRUE\n",
       "[3,] FALSE TRUE FALSE TRUE"
      ]
     },
     "metadata": {},
     "output_type": "display_data"
    }
   ],
   "source": [
    "matrix3x4 %% 2 == 0\n"
   ]
  },
  {
   "cell_type": "code",
   "execution_count": 86,
   "id": "156c6f7e",
   "metadata": {
    "vscode": {
     "languageId": "r"
    }
   },
   "outputs": [
    {
     "data": {
      "text/html": [
       "<style>\n",
       ".list-inline {list-style: none; margin:0; padding: 0}\n",
       ".list-inline>li {display: inline-block}\n",
       ".list-inline>li:not(:last-child)::after {content: \"\\00b7\"; padding: 0 .5ex}\n",
       "</style>\n",
       "<ol class=list-inline><li>2</li><li>6</li><li>10</li><li>4</li><li>8</li><li>12</li></ol>\n"
      ],
      "text/latex": [
       "\\begin{enumerate*}\n",
       "\\item 2\n",
       "\\item 6\n",
       "\\item 10\n",
       "\\item 4\n",
       "\\item 8\n",
       "\\item 12\n",
       "\\end{enumerate*}\n"
      ],
      "text/markdown": [
       "1. 2\n",
       "2. 6\n",
       "3. 10\n",
       "4. 4\n",
       "5. 8\n",
       "6. 12\n",
       "\n",
       "\n"
      ],
      "text/plain": [
       "[1]  2  6 10  4  8 12"
      ]
     },
     "metadata": {},
     "output_type": "display_data"
    }
   ],
   "source": [
    "matrix3x4[matrix3x4 %% 2 == 0] # It prints from cols to cols, not from rows to rows\n"
   ]
  },
  {
   "cell_type": "code",
   "execution_count": 87,
   "id": "74b3f3e4",
   "metadata": {
    "vscode": {
     "languageId": "r"
    }
   },
   "outputs": [
    {
     "data": {
      "text/html": [
       "<table class=\"dataframe\">\n",
       "<caption>A matrix: 3 × 4 of type int</caption>\n",
       "<tbody>\n",
       "\t<tr><td>1</td><td> 2</td><td> 3</td><td> 4</td></tr>\n",
       "\t<tr><td>5</td><td> 6</td><td> 7</td><td> 8</td></tr>\n",
       "\t<tr><td>9</td><td>10</td><td>11</td><td>12</td></tr>\n",
       "</tbody>\n",
       "</table>\n"
      ],
      "text/latex": [
       "A matrix: 3 × 4 of type int\n",
       "\\begin{tabular}{llll}\n",
       "\t 1 &  2 &  3 &  4\\\\\n",
       "\t 5 &  6 &  7 &  8\\\\\n",
       "\t 9 & 10 & 11 & 12\\\\\n",
       "\\end{tabular}\n"
      ],
      "text/markdown": [
       "\n",
       "A matrix: 3 × 4 of type int\n",
       "\n",
       "| 1 |  2 |  3 |  4 |\n",
       "| 5 |  6 |  7 |  8 |\n",
       "| 9 | 10 | 11 | 12 |\n",
       "\n"
      ],
      "text/plain": [
       "     [,1] [,2] [,3] [,4]\n",
       "[1,] 1     2    3    4  \n",
       "[2,] 5     6    7    8  \n",
       "[3,] 9    10   11   12  "
      ]
     },
     "metadata": {},
     "output_type": "display_data"
    }
   ],
   "source": [
    "matrix3x4\n"
   ]
  },
  {
   "cell_type": "code",
   "execution_count": 88,
   "id": "561261ff",
   "metadata": {
    "vscode": {
     "languageId": "r"
    }
   },
   "outputs": [],
   "source": [
    "names(htru2_df) <- names(htru2_tbl)\n"
   ]
  },
  {
   "cell_type": "code",
   "execution_count": 89,
   "id": "4c2d2fff",
   "metadata": {
    "vscode": {
     "languageId": "r"
    }
   },
   "outputs": [
    {
     "data": {
      "text/html": [
       "<table class=\"dataframe\">\n",
       "<caption>A data.frame: 6 × 9</caption>\n",
       "<thead>\n",
       "\t<tr><th></th><th scope=col>Mean_IP</th><th scope=col>SD_IP</th><th scope=col>EK_IP</th><th scope=col>SKW_IP</th><th scope=col>Mean_DMSNR</th><th scope=col>SD_DMSNR</th><th scope=col>EK_DMSNR</th><th scope=col>SKW_DMSNR</th><th scope=col>Class</th></tr>\n",
       "\t<tr><th></th><th scope=col>&lt;dbl&gt;</th><th scope=col>&lt;dbl&gt;</th><th scope=col>&lt;dbl&gt;</th><th scope=col>&lt;dbl&gt;</th><th scope=col>&lt;dbl&gt;</th><th scope=col>&lt;dbl&gt;</th><th scope=col>&lt;dbl&gt;</th><th scope=col>&lt;dbl&gt;</th><th scope=col>&lt;int&gt;</th></tr>\n",
       "</thead>\n",
       "<tbody>\n",
       "\t<tr><th scope=row>1</th><td>140.56250</td><td>55.68378</td><td>-0.23457141</td><td>-0.6996484</td><td>3.199833</td><td>19.11043</td><td> 7.975532</td><td> 74.24222</td><td>0</td></tr>\n",
       "\t<tr><th scope=row>2</th><td>102.50781</td><td>58.88243</td><td> 0.46531815</td><td>-0.5150879</td><td>1.677258</td><td>14.86015</td><td>10.576487</td><td>127.39358</td><td>0</td></tr>\n",
       "\t<tr><th scope=row>3</th><td>103.01562</td><td>39.34165</td><td> 0.32332837</td><td> 1.0511644</td><td>3.121237</td><td>21.74467</td><td> 7.735822</td><td> 63.17191</td><td>0</td></tr>\n",
       "\t<tr><th scope=row>4</th><td>136.75000</td><td>57.17845</td><td>-0.06841464</td><td>-0.6362384</td><td>3.642977</td><td>20.95928</td><td> 6.896499</td><td> 53.59366</td><td>0</td></tr>\n",
       "\t<tr><th scope=row>5</th><td> 88.72656</td><td>40.67223</td><td> 0.60086608</td><td> 1.1234917</td><td>1.178930</td><td>11.46872</td><td>14.269573</td><td>252.56731</td><td>0</td></tr>\n",
       "\t<tr><th scope=row>6</th><td> 93.57031</td><td>46.69811</td><td> 0.53190485</td><td> 0.4167211</td><td>1.636288</td><td>14.54507</td><td>10.621748</td><td>131.39400</td><td>0</td></tr>\n",
       "</tbody>\n",
       "</table>\n"
      ],
      "text/latex": [
       "A data.frame: 6 × 9\n",
       "\\begin{tabular}{r|lllllllll}\n",
       "  & Mean\\_IP & SD\\_IP & EK\\_IP & SKW\\_IP & Mean\\_DMSNR & SD\\_DMSNR & EK\\_DMSNR & SKW\\_DMSNR & Class\\\\\n",
       "  & <dbl> & <dbl> & <dbl> & <dbl> & <dbl> & <dbl> & <dbl> & <dbl> & <int>\\\\\n",
       "\\hline\n",
       "\t1 & 140.56250 & 55.68378 & -0.23457141 & -0.6996484 & 3.199833 & 19.11043 &  7.975532 &  74.24222 & 0\\\\\n",
       "\t2 & 102.50781 & 58.88243 &  0.46531815 & -0.5150879 & 1.677258 & 14.86015 & 10.576487 & 127.39358 & 0\\\\\n",
       "\t3 & 103.01562 & 39.34165 &  0.32332837 &  1.0511644 & 3.121237 & 21.74467 &  7.735822 &  63.17191 & 0\\\\\n",
       "\t4 & 136.75000 & 57.17845 & -0.06841464 & -0.6362384 & 3.642977 & 20.95928 &  6.896499 &  53.59366 & 0\\\\\n",
       "\t5 &  88.72656 & 40.67223 &  0.60086608 &  1.1234917 & 1.178930 & 11.46872 & 14.269573 & 252.56731 & 0\\\\\n",
       "\t6 &  93.57031 & 46.69811 &  0.53190485 &  0.4167211 & 1.636288 & 14.54507 & 10.621748 & 131.39400 & 0\\\\\n",
       "\\end{tabular}\n"
      ],
      "text/markdown": [
       "\n",
       "A data.frame: 6 × 9\n",
       "\n",
       "| <!--/--> | Mean_IP &lt;dbl&gt; | SD_IP &lt;dbl&gt; | EK_IP &lt;dbl&gt; | SKW_IP &lt;dbl&gt; | Mean_DMSNR &lt;dbl&gt; | SD_DMSNR &lt;dbl&gt; | EK_DMSNR &lt;dbl&gt; | SKW_DMSNR &lt;dbl&gt; | Class &lt;int&gt; |\n",
       "|---|---|---|---|---|---|---|---|---|---|\n",
       "| 1 | 140.56250 | 55.68378 | -0.23457141 | -0.6996484 | 3.199833 | 19.11043 |  7.975532 |  74.24222 | 0 |\n",
       "| 2 | 102.50781 | 58.88243 |  0.46531815 | -0.5150879 | 1.677258 | 14.86015 | 10.576487 | 127.39358 | 0 |\n",
       "| 3 | 103.01562 | 39.34165 |  0.32332837 |  1.0511644 | 3.121237 | 21.74467 |  7.735822 |  63.17191 | 0 |\n",
       "| 4 | 136.75000 | 57.17845 | -0.06841464 | -0.6362384 | 3.642977 | 20.95928 |  6.896499 |  53.59366 | 0 |\n",
       "| 5 |  88.72656 | 40.67223 |  0.60086608 |  1.1234917 | 1.178930 | 11.46872 | 14.269573 | 252.56731 | 0 |\n",
       "| 6 |  93.57031 | 46.69811 |  0.53190485 |  0.4167211 | 1.636288 | 14.54507 | 10.621748 | 131.39400 | 0 |\n",
       "\n"
      ],
      "text/plain": [
       "  Mean_IP   SD_IP    EK_IP       SKW_IP     Mean_DMSNR SD_DMSNR EK_DMSNR \n",
       "1 140.56250 55.68378 -0.23457141 -0.6996484 3.199833   19.11043  7.975532\n",
       "2 102.50781 58.88243  0.46531815 -0.5150879 1.677258   14.86015 10.576487\n",
       "3 103.01562 39.34165  0.32332837  1.0511644 3.121237   21.74467  7.735822\n",
       "4 136.75000 57.17845 -0.06841464 -0.6362384 3.642977   20.95928  6.896499\n",
       "5  88.72656 40.67223  0.60086608  1.1234917 1.178930   11.46872 14.269573\n",
       "6  93.57031 46.69811  0.53190485  0.4167211 1.636288   14.54507 10.621748\n",
       "  SKW_DMSNR Class\n",
       "1  74.24222 0    \n",
       "2 127.39358 0    \n",
       "3  63.17191 0    \n",
       "4  53.59366 0    \n",
       "5 252.56731 0    \n",
       "6 131.39400 0    "
      ]
     },
     "metadata": {},
     "output_type": "display_data"
    }
   ],
   "source": [
    "head(htru2_df) # Subsetting data.frame\n"
   ]
  },
  {
   "cell_type": "code",
   "execution_count": 90,
   "id": "20729f13",
   "metadata": {
    "vscode": {
     "languageId": "r"
    }
   },
   "outputs": [
    {
     "data": {
      "text/html": [
       "<table class=\"dataframe\">\n",
       "<caption>A data.frame: 2 × 2</caption>\n",
       "<thead>\n",
       "\t<tr><th></th><th scope=col>EK_IP</th><th scope=col>SKW_IP</th></tr>\n",
       "\t<tr><th></th><th scope=col>&lt;dbl&gt;</th><th scope=col>&lt;dbl&gt;</th></tr>\n",
       "</thead>\n",
       "<tbody>\n",
       "\t<tr><th scope=row>1</th><td>-0.2345714</td><td>-0.6996484</td></tr>\n",
       "\t<tr><th scope=row>2</th><td> 0.4653182</td><td>-0.5150879</td></tr>\n",
       "</tbody>\n",
       "</table>\n"
      ],
      "text/latex": [
       "A data.frame: 2 × 2\n",
       "\\begin{tabular}{r|ll}\n",
       "  & EK\\_IP & SKW\\_IP\\\\\n",
       "  & <dbl> & <dbl>\\\\\n",
       "\\hline\n",
       "\t1 & -0.2345714 & -0.6996484\\\\\n",
       "\t2 &  0.4653182 & -0.5150879\\\\\n",
       "\\end{tabular}\n"
      ],
      "text/markdown": [
       "\n",
       "A data.frame: 2 × 2\n",
       "\n",
       "| <!--/--> | EK_IP &lt;dbl&gt; | SKW_IP &lt;dbl&gt; |\n",
       "|---|---|---|\n",
       "| 1 | -0.2345714 | -0.6996484 |\n",
       "| 2 |  0.4653182 | -0.5150879 |\n",
       "\n"
      ],
      "text/plain": [
       "  EK_IP      SKW_IP    \n",
       "1 -0.2345714 -0.6996484\n",
       "2  0.4653182 -0.5150879"
      ]
     },
     "metadata": {},
     "output_type": "display_data"
    }
   ],
   "source": [
    "htru2_df[c(1, 2), c(3, 4)]\n"
   ]
  },
  {
   "cell_type": "code",
   "execution_count": 91,
   "id": "a3bf4033",
   "metadata": {
    "vscode": {
     "languageId": "r"
    }
   },
   "outputs": [
    {
     "data": {
      "text/html": [
       "<style>\n",
       ".list-inline {list-style: none; margin:0; padding: 0}\n",
       ".list-inline>li {display: inline-block}\n",
       ".list-inline>li:not(:last-child)::after {content: \"\\00b7\"; padding: 0 .5ex}\n",
       "</style>\n",
       "<ol class=list-inline><li>1276</li><li>3</li></ol>\n"
      ],
      "text/latex": [
       "\\begin{enumerate*}\n",
       "\\item 1276\n",
       "\\item 3\n",
       "\\end{enumerate*}\n"
      ],
      "text/markdown": [
       "1. 1276\n",
       "2. 3\n",
       "\n",
       "\n"
      ],
      "text/plain": [
       "[1] 1276    3"
      ]
     },
     "metadata": {},
     "output_type": "display_data"
    }
   ],
   "source": [
    "htru2_df_MIP14 <- htru2_df[htru2_df$Mean_IP > 140, 1:3]\n",
    "dim(htru2_df_MIP14)\n"
   ]
  },
  {
   "cell_type": "code",
   "execution_count": 92,
   "id": "302bf443",
   "metadata": {
    "vscode": {
     "languageId": "r"
    }
   },
   "outputs": [
    {
     "data": {
      "text/html": [
       "<table class=\"dataframe\">\n",
       "<caption>A data.frame: 6 × 3</caption>\n",
       "<thead>\n",
       "\t<tr><th></th><th scope=col>Mean_IP</th><th scope=col>SD_IP</th><th scope=col>Class</th></tr>\n",
       "\t<tr><th></th><th scope=col>&lt;dbl&gt;</th><th scope=col>&lt;dbl&gt;</th><th scope=col>&lt;int&gt;</th></tr>\n",
       "</thead>\n",
       "<tbody>\n",
       "\t<tr><th scope=row>1</th><td>140.5625</td><td>55.68378</td><td>0</td></tr>\n",
       "\t<tr><th scope=row>11</th><td>142.0781</td><td>45.28807</td><td>0</td></tr>\n",
       "\t<tr><th scope=row>34</th><td>142.0547</td><td>53.87316</td><td>0</td></tr>\n",
       "\t<tr><th scope=row>37</th><td>147.8359</td><td>53.62264</td><td>0</td></tr>\n",
       "\t<tr><th scope=row>59</th><td>141.9688</td><td>50.47090</td><td>0</td></tr>\n",
       "\t<tr><th scope=row>67</th><td>143.0859</td><td>49.92197</td><td>0</td></tr>\n",
       "</tbody>\n",
       "</table>\n"
      ],
      "text/latex": [
       "A data.frame: 6 × 3\n",
       "\\begin{tabular}{r|lll}\n",
       "  & Mean\\_IP & SD\\_IP & Class\\\\\n",
       "  & <dbl> & <dbl> & <int>\\\\\n",
       "\\hline\n",
       "\t1 & 140.5625 & 55.68378 & 0\\\\\n",
       "\t11 & 142.0781 & 45.28807 & 0\\\\\n",
       "\t34 & 142.0547 & 53.87316 & 0\\\\\n",
       "\t37 & 147.8359 & 53.62264 & 0\\\\\n",
       "\t59 & 141.9688 & 50.47090 & 0\\\\\n",
       "\t67 & 143.0859 & 49.92197 & 0\\\\\n",
       "\\end{tabular}\n"
      ],
      "text/markdown": [
       "\n",
       "A data.frame: 6 × 3\n",
       "\n",
       "| <!--/--> | Mean_IP &lt;dbl&gt; | SD_IP &lt;dbl&gt; | Class &lt;int&gt; |\n",
       "|---|---|---|---|\n",
       "| 1 | 140.5625 | 55.68378 | 0 |\n",
       "| 11 | 142.0781 | 45.28807 | 0 |\n",
       "| 34 | 142.0547 | 53.87316 | 0 |\n",
       "| 37 | 147.8359 | 53.62264 | 0 |\n",
       "| 59 | 141.9688 | 50.47090 | 0 |\n",
       "| 67 | 143.0859 | 49.92197 | 0 |\n",
       "\n"
      ],
      "text/plain": [
       "   Mean_IP  SD_IP    Class\n",
       "1  140.5625 55.68378 0    \n",
       "11 142.0781 45.28807 0    \n",
       "34 142.0547 53.87316 0    \n",
       "37 147.8359 53.62264 0    \n",
       "59 141.9688 50.47090 0    \n",
       "67 143.0859 49.92197 0    "
      ]
     },
     "metadata": {},
     "output_type": "display_data"
    }
   ],
   "source": [
    "head(htru2_df[htru2_df$Mean_IP > 140, c(\"Mean_IP\", \"SD_IP\", \"Class\")])\n"
   ]
  },
  {
   "cell_type": "code",
   "execution_count": 93,
   "id": "301a2677",
   "metadata": {
    "vscode": {
     "languageId": "r"
    }
   },
   "outputs": [],
   "source": [
    "htru2_df_MIP14_sub <- subset(htru2_df, Mean_IP > 140) # Subsetting df with subset function\n"
   ]
  },
  {
   "cell_type": "code",
   "execution_count": 94,
   "id": "c83c0ed9",
   "metadata": {
    "vscode": {
     "languageId": "r"
    }
   },
   "outputs": [
    {
     "data": {
      "text/html": [
       "<table class=\"dataframe\">\n",
       "<caption>A data.frame: 6 × 9</caption>\n",
       "<thead>\n",
       "\t<tr><th></th><th scope=col>Mean_IP</th><th scope=col>SD_IP</th><th scope=col>EK_IP</th><th scope=col>SKW_IP</th><th scope=col>Mean_DMSNR</th><th scope=col>SD_DMSNR</th><th scope=col>EK_DMSNR</th><th scope=col>SKW_DMSNR</th><th scope=col>Class</th></tr>\n",
       "\t<tr><th></th><th scope=col>&lt;dbl&gt;</th><th scope=col>&lt;dbl&gt;</th><th scope=col>&lt;dbl&gt;</th><th scope=col>&lt;dbl&gt;</th><th scope=col>&lt;dbl&gt;</th><th scope=col>&lt;dbl&gt;</th><th scope=col>&lt;dbl&gt;</th><th scope=col>&lt;dbl&gt;</th><th scope=col>&lt;int&gt;</th></tr>\n",
       "</thead>\n",
       "<tbody>\n",
       "\t<tr><th scope=row>1</th><td>140.5625</td><td>55.68378</td><td>-0.2345714</td><td>-0.6996484</td><td>3.199833</td><td>19.11043</td><td>7.975532</td><td>74.24222</td><td>0</td></tr>\n",
       "\t<tr><th scope=row>11</th><td>142.0781</td><td>45.28807</td><td>-0.3203284</td><td> 0.2839525</td><td>5.376254</td><td>29.00990</td><td>6.076266</td><td>37.83139</td><td>0</td></tr>\n",
       "\t<tr><th scope=row>34</th><td>142.0547</td><td>53.87316</td><td>-0.4707727</td><td>-0.1259464</td><td>4.423077</td><td>27.08351</td><td>6.681658</td><td>45.94403</td><td>0</td></tr>\n",
       "\t<tr><th scope=row>37</th><td>147.8359</td><td>53.62264</td><td>-0.1310796</td><td>-0.2888512</td><td>2.692308</td><td>17.08088</td><td>8.849178</td><td>92.20175</td><td>0</td></tr>\n",
       "\t<tr><th scope=row>59</th><td>141.9688</td><td>50.47090</td><td> 0.2449745</td><td>-0.3426647</td><td>2.823579</td><td>16.23819</td><td>8.207744</td><td>85.53258</td><td>0</td></tr>\n",
       "\t<tr><th scope=row>67</th><td>143.0859</td><td>49.92197</td><td>-0.1575612</td><td>-0.1533327</td><td>3.563545</td><td>21.28808</td><td>7.337117</td><td>59.16844</td><td>0</td></tr>\n",
       "</tbody>\n",
       "</table>\n"
      ],
      "text/latex": [
       "A data.frame: 6 × 9\n",
       "\\begin{tabular}{r|lllllllll}\n",
       "  & Mean\\_IP & SD\\_IP & EK\\_IP & SKW\\_IP & Mean\\_DMSNR & SD\\_DMSNR & EK\\_DMSNR & SKW\\_DMSNR & Class\\\\\n",
       "  & <dbl> & <dbl> & <dbl> & <dbl> & <dbl> & <dbl> & <dbl> & <dbl> & <int>\\\\\n",
       "\\hline\n",
       "\t1 & 140.5625 & 55.68378 & -0.2345714 & -0.6996484 & 3.199833 & 19.11043 & 7.975532 & 74.24222 & 0\\\\\n",
       "\t11 & 142.0781 & 45.28807 & -0.3203284 &  0.2839525 & 5.376254 & 29.00990 & 6.076266 & 37.83139 & 0\\\\\n",
       "\t34 & 142.0547 & 53.87316 & -0.4707727 & -0.1259464 & 4.423077 & 27.08351 & 6.681658 & 45.94403 & 0\\\\\n",
       "\t37 & 147.8359 & 53.62264 & -0.1310796 & -0.2888512 & 2.692308 & 17.08088 & 8.849178 & 92.20175 & 0\\\\\n",
       "\t59 & 141.9688 & 50.47090 &  0.2449745 & -0.3426647 & 2.823579 & 16.23819 & 8.207744 & 85.53258 & 0\\\\\n",
       "\t67 & 143.0859 & 49.92197 & -0.1575612 & -0.1533327 & 3.563545 & 21.28808 & 7.337117 & 59.16844 & 0\\\\\n",
       "\\end{tabular}\n"
      ],
      "text/markdown": [
       "\n",
       "A data.frame: 6 × 9\n",
       "\n",
       "| <!--/--> | Mean_IP &lt;dbl&gt; | SD_IP &lt;dbl&gt; | EK_IP &lt;dbl&gt; | SKW_IP &lt;dbl&gt; | Mean_DMSNR &lt;dbl&gt; | SD_DMSNR &lt;dbl&gt; | EK_DMSNR &lt;dbl&gt; | SKW_DMSNR &lt;dbl&gt; | Class &lt;int&gt; |\n",
       "|---|---|---|---|---|---|---|---|---|---|\n",
       "| 1 | 140.5625 | 55.68378 | -0.2345714 | -0.6996484 | 3.199833 | 19.11043 | 7.975532 | 74.24222 | 0 |\n",
       "| 11 | 142.0781 | 45.28807 | -0.3203284 |  0.2839525 | 5.376254 | 29.00990 | 6.076266 | 37.83139 | 0 |\n",
       "| 34 | 142.0547 | 53.87316 | -0.4707727 | -0.1259464 | 4.423077 | 27.08351 | 6.681658 | 45.94403 | 0 |\n",
       "| 37 | 147.8359 | 53.62264 | -0.1310796 | -0.2888512 | 2.692308 | 17.08088 | 8.849178 | 92.20175 | 0 |\n",
       "| 59 | 141.9688 | 50.47090 |  0.2449745 | -0.3426647 | 2.823579 | 16.23819 | 8.207744 | 85.53258 | 0 |\n",
       "| 67 | 143.0859 | 49.92197 | -0.1575612 | -0.1533327 | 3.563545 | 21.28808 | 7.337117 | 59.16844 | 0 |\n",
       "\n"
      ],
      "text/plain": [
       "   Mean_IP  SD_IP    EK_IP      SKW_IP     Mean_DMSNR SD_DMSNR EK_DMSNR\n",
       "1  140.5625 55.68378 -0.2345714 -0.6996484 3.199833   19.11043 7.975532\n",
       "11 142.0781 45.28807 -0.3203284  0.2839525 5.376254   29.00990 6.076266\n",
       "34 142.0547 53.87316 -0.4707727 -0.1259464 4.423077   27.08351 6.681658\n",
       "37 147.8359 53.62264 -0.1310796 -0.2888512 2.692308   17.08088 8.849178\n",
       "59 141.9688 50.47090  0.2449745 -0.3426647 2.823579   16.23819 8.207744\n",
       "67 143.0859 49.92197 -0.1575612 -0.1533327 3.563545   21.28808 7.337117\n",
       "   SKW_DMSNR Class\n",
       "1  74.24222  0    \n",
       "11 37.83139  0    \n",
       "34 45.94403  0    \n",
       "37 92.20175  0    \n",
       "59 85.53258  0    \n",
       "67 59.16844  0    "
      ]
     },
     "metadata": {},
     "output_type": "display_data"
    }
   ],
   "source": [
    "head(htru2_df_MIP14_sub)\n"
   ]
  },
  {
   "cell_type": "code",
   "execution_count": 95,
   "id": "34c5d433",
   "metadata": {
    "vscode": {
     "languageId": "r"
    }
   },
   "outputs": [
    {
     "data": {
      "text/html": [
       "<table class=\"dataframe\">\n",
       "<caption>A tibble: 6 × 9</caption>\n",
       "<thead>\n",
       "\t<tr><th scope=col>Mean_IP</th><th scope=col>SD_IP</th><th scope=col>EK_IP</th><th scope=col>SKW_IP</th><th scope=col>Mean_DMSNR</th><th scope=col>SD_DMSNR</th><th scope=col>EK_DMSNR</th><th scope=col>SKW_DMSNR</th><th scope=col>Class</th></tr>\n",
       "\t<tr><th scope=col>&lt;dbl&gt;</th><th scope=col>&lt;dbl&gt;</th><th scope=col>&lt;dbl&gt;</th><th scope=col>&lt;dbl&gt;</th><th scope=col>&lt;dbl&gt;</th><th scope=col>&lt;dbl&gt;</th><th scope=col>&lt;dbl&gt;</th><th scope=col>&lt;dbl&gt;</th><th scope=col>&lt;dbl&gt;</th></tr>\n",
       "</thead>\n",
       "<tbody>\n",
       "\t<tr><td>140.56250</td><td>55.68378</td><td>-0.23457141</td><td>-0.6996484</td><td>3.199833</td><td>19.11043</td><td> 7.975532</td><td> 74.24222</td><td>0</td></tr>\n",
       "\t<tr><td>102.50781</td><td>58.88243</td><td> 0.46531815</td><td>-0.5150879</td><td>1.677258</td><td>14.86015</td><td>10.576487</td><td>127.39358</td><td>0</td></tr>\n",
       "\t<tr><td>103.01562</td><td>39.34165</td><td> 0.32332837</td><td> 1.0511644</td><td>3.121237</td><td>21.74467</td><td> 7.735822</td><td> 63.17191</td><td>0</td></tr>\n",
       "\t<tr><td>136.75000</td><td>57.17845</td><td>-0.06841464</td><td>-0.6362384</td><td>3.642977</td><td>20.95928</td><td> 6.896499</td><td> 53.59366</td><td>0</td></tr>\n",
       "\t<tr><td> 88.72656</td><td>40.67223</td><td> 0.60086608</td><td> 1.1234917</td><td>1.178930</td><td>11.46872</td><td>14.269573</td><td>252.56731</td><td>0</td></tr>\n",
       "\t<tr><td> 93.57031</td><td>46.69811</td><td> 0.53190485</td><td> 0.4167211</td><td>1.636288</td><td>14.54507</td><td>10.621748</td><td>131.39400</td><td>0</td></tr>\n",
       "</tbody>\n",
       "</table>\n"
      ],
      "text/latex": [
       "A tibble: 6 × 9\n",
       "\\begin{tabular}{lllllllll}\n",
       " Mean\\_IP & SD\\_IP & EK\\_IP & SKW\\_IP & Mean\\_DMSNR & SD\\_DMSNR & EK\\_DMSNR & SKW\\_DMSNR & Class\\\\\n",
       " <dbl> & <dbl> & <dbl> & <dbl> & <dbl> & <dbl> & <dbl> & <dbl> & <dbl>\\\\\n",
       "\\hline\n",
       "\t 140.56250 & 55.68378 & -0.23457141 & -0.6996484 & 3.199833 & 19.11043 &  7.975532 &  74.24222 & 0\\\\\n",
       "\t 102.50781 & 58.88243 &  0.46531815 & -0.5150879 & 1.677258 & 14.86015 & 10.576487 & 127.39358 & 0\\\\\n",
       "\t 103.01562 & 39.34165 &  0.32332837 &  1.0511644 & 3.121237 & 21.74467 &  7.735822 &  63.17191 & 0\\\\\n",
       "\t 136.75000 & 57.17845 & -0.06841464 & -0.6362384 & 3.642977 & 20.95928 &  6.896499 &  53.59366 & 0\\\\\n",
       "\t  88.72656 & 40.67223 &  0.60086608 &  1.1234917 & 1.178930 & 11.46872 & 14.269573 & 252.56731 & 0\\\\\n",
       "\t  93.57031 & 46.69811 &  0.53190485 &  0.4167211 & 1.636288 & 14.54507 & 10.621748 & 131.39400 & 0\\\\\n",
       "\\end{tabular}\n"
      ],
      "text/markdown": [
       "\n",
       "A tibble: 6 × 9\n",
       "\n",
       "| Mean_IP &lt;dbl&gt; | SD_IP &lt;dbl&gt; | EK_IP &lt;dbl&gt; | SKW_IP &lt;dbl&gt; | Mean_DMSNR &lt;dbl&gt; | SD_DMSNR &lt;dbl&gt; | EK_DMSNR &lt;dbl&gt; | SKW_DMSNR &lt;dbl&gt; | Class &lt;dbl&gt; |\n",
       "|---|---|---|---|---|---|---|---|---|\n",
       "| 140.56250 | 55.68378 | -0.23457141 | -0.6996484 | 3.199833 | 19.11043 |  7.975532 |  74.24222 | 0 |\n",
       "| 102.50781 | 58.88243 |  0.46531815 | -0.5150879 | 1.677258 | 14.86015 | 10.576487 | 127.39358 | 0 |\n",
       "| 103.01562 | 39.34165 |  0.32332837 |  1.0511644 | 3.121237 | 21.74467 |  7.735822 |  63.17191 | 0 |\n",
       "| 136.75000 | 57.17845 | -0.06841464 | -0.6362384 | 3.642977 | 20.95928 |  6.896499 |  53.59366 | 0 |\n",
       "|  88.72656 | 40.67223 |  0.60086608 |  1.1234917 | 1.178930 | 11.46872 | 14.269573 | 252.56731 | 0 |\n",
       "|  93.57031 | 46.69811 |  0.53190485 |  0.4167211 | 1.636288 | 14.54507 | 10.621748 | 131.39400 | 0 |\n",
       "\n"
      ],
      "text/plain": [
       "  Mean_IP   SD_IP    EK_IP       SKW_IP     Mean_DMSNR SD_DMSNR EK_DMSNR \n",
       "1 140.56250 55.68378 -0.23457141 -0.6996484 3.199833   19.11043  7.975532\n",
       "2 102.50781 58.88243  0.46531815 -0.5150879 1.677258   14.86015 10.576487\n",
       "3 103.01562 39.34165  0.32332837  1.0511644 3.121237   21.74467  7.735822\n",
       "4 136.75000 57.17845 -0.06841464 -0.6362384 3.642977   20.95928  6.896499\n",
       "5  88.72656 40.67223  0.60086608  1.1234917 1.178930   11.46872 14.269573\n",
       "6  93.57031 46.69811  0.53190485  0.4167211 1.636288   14.54507 10.621748\n",
       "  SKW_DMSNR Class\n",
       "1  74.24222 0    \n",
       "2 127.39358 0    \n",
       "3  63.17191 0    \n",
       "4  53.59366 0    \n",
       "5 252.56731 0    \n",
       "6 131.39400 0    "
      ]
     },
     "metadata": {},
     "output_type": "display_data"
    }
   ],
   "source": [
    "head(htru2_tbl)\n"
   ]
  },
  {
   "cell_type": "code",
   "execution_count": 96,
   "id": "808362d2",
   "metadata": {
    "vscode": {
     "languageId": "r"
    }
   },
   "outputs": [
    {
     "data": {
      "text/html": [
       "<table class=\"dataframe\">\n",
       "<caption>A tibble: 3 × 3</caption>\n",
       "<thead>\n",
       "\t<tr><th scope=col>Mean_IP</th><th scope=col>Mean_DMSNR</th><th scope=col>Class</th></tr>\n",
       "\t<tr><th scope=col>&lt;dbl&gt;</th><th scope=col>&lt;dbl&gt;</th><th scope=col>&lt;dbl&gt;</th></tr>\n",
       "</thead>\n",
       "<tbody>\n",
       "\t<tr><td>140.5625</td><td>3.199833</td><td>0</td></tr>\n",
       "\t<tr><td>102.5078</td><td>1.677258</td><td>0</td></tr>\n",
       "\t<tr><td>103.0156</td><td>3.121237</td><td>0</td></tr>\n",
       "</tbody>\n",
       "</table>\n"
      ],
      "text/latex": [
       "A tibble: 3 × 3\n",
       "\\begin{tabular}{lll}\n",
       " Mean\\_IP & Mean\\_DMSNR & Class\\\\\n",
       " <dbl> & <dbl> & <dbl>\\\\\n",
       "\\hline\n",
       "\t 140.5625 & 3.199833 & 0\\\\\n",
       "\t 102.5078 & 1.677258 & 0\\\\\n",
       "\t 103.0156 & 3.121237 & 0\\\\\n",
       "\\end{tabular}\n"
      ],
      "text/markdown": [
       "\n",
       "A tibble: 3 × 3\n",
       "\n",
       "| Mean_IP &lt;dbl&gt; | Mean_DMSNR &lt;dbl&gt; | Class &lt;dbl&gt; |\n",
       "|---|---|---|\n",
       "| 140.5625 | 3.199833 | 0 |\n",
       "| 102.5078 | 1.677258 | 0 |\n",
       "| 103.0156 | 3.121237 | 0 |\n",
       "\n"
      ],
      "text/plain": [
       "  Mean_IP  Mean_DMSNR Class\n",
       "1 140.5625 3.199833   0    \n",
       "2 102.5078 1.677258   0    \n",
       "3 103.0156 3.121237   0    "
      ]
     },
     "metadata": {},
     "output_type": "display_data"
    }
   ],
   "source": [
    "htru2_tbl[1:3, c(1, 5, 9)] # Subsetting tibble\n"
   ]
  },
  {
   "cell_type": "code",
   "execution_count": 97,
   "id": "d8a73483",
   "metadata": {
    "vscode": {
     "languageId": "r"
    }
   },
   "outputs": [
    {
     "data": {
      "text/html": [
       "<table class=\"dataframe\">\n",
       "<caption>A tibble: 6 × 3</caption>\n",
       "<thead>\n",
       "\t<tr><th scope=col>Mean_IP</th><th scope=col>Mean_DMSNR</th><th scope=col>Class</th></tr>\n",
       "\t<tr><th scope=col>&lt;dbl&gt;</th><th scope=col>&lt;dbl&gt;</th><th scope=col>&lt;dbl&gt;</th></tr>\n",
       "</thead>\n",
       "<tbody>\n",
       "\t<tr><td>140.56250</td><td>3.199833</td><td>0</td></tr>\n",
       "\t<tr><td>102.50781</td><td>1.677258</td><td>0</td></tr>\n",
       "\t<tr><td>103.01562</td><td>3.121237</td><td>0</td></tr>\n",
       "\t<tr><td>136.75000</td><td>3.642977</td><td>0</td></tr>\n",
       "\t<tr><td> 88.72656</td><td>1.178930</td><td>0</td></tr>\n",
       "\t<tr><td> 93.57031</td><td>1.636288</td><td>0</td></tr>\n",
       "</tbody>\n",
       "</table>\n"
      ],
      "text/latex": [
       "A tibble: 6 × 3\n",
       "\\begin{tabular}{lll}\n",
       " Mean\\_IP & Mean\\_DMSNR & Class\\\\\n",
       " <dbl> & <dbl> & <dbl>\\\\\n",
       "\\hline\n",
       "\t 140.56250 & 3.199833 & 0\\\\\n",
       "\t 102.50781 & 1.677258 & 0\\\\\n",
       "\t 103.01562 & 3.121237 & 0\\\\\n",
       "\t 136.75000 & 3.642977 & 0\\\\\n",
       "\t  88.72656 & 1.178930 & 0\\\\\n",
       "\t  93.57031 & 1.636288 & 0\\\\\n",
       "\\end{tabular}\n"
      ],
      "text/markdown": [
       "\n",
       "A tibble: 6 × 3\n",
       "\n",
       "| Mean_IP &lt;dbl&gt; | Mean_DMSNR &lt;dbl&gt; | Class &lt;dbl&gt; |\n",
       "|---|---|---|\n",
       "| 140.56250 | 3.199833 | 0 |\n",
       "| 102.50781 | 1.677258 | 0 |\n",
       "| 103.01562 | 3.121237 | 0 |\n",
       "| 136.75000 | 3.642977 | 0 |\n",
       "|  88.72656 | 1.178930 | 0 |\n",
       "|  93.57031 | 1.636288 | 0 |\n",
       "\n"
      ],
      "text/plain": [
       "  Mean_IP   Mean_DMSNR Class\n",
       "1 140.56250 3.199833   0    \n",
       "2 102.50781 1.677258   0    \n",
       "3 103.01562 3.121237   0    \n",
       "4 136.75000 3.642977   0    \n",
       "5  88.72656 1.178930   0    \n",
       "6  93.57031 1.636288   0    "
      ]
     },
     "metadata": {},
     "output_type": "display_data"
    }
   ],
   "source": [
    "head(select(htru2_tbl, Mean_IP, Mean_DMSNR, Class))\n"
   ]
  },
  {
   "cell_type": "code",
   "execution_count": 98,
   "id": "205ffae5",
   "metadata": {
    "vscode": {
     "languageId": "r"
    }
   },
   "outputs": [
    {
     "data": {
      "text/html": [
       "<table class=\"dataframe\">\n",
       "<caption>A spec_tbl_df: 3 × 9</caption>\n",
       "<thead>\n",
       "\t<tr><th scope=col>Mean_IP</th><th scope=col>SD_IP</th><th scope=col>EK_IP</th><th scope=col>SKW_IP</th><th scope=col>Mean_DMSNR</th><th scope=col>SD_DMSNR</th><th scope=col>EK_DMSNR</th><th scope=col>SKW_DMSNR</th><th scope=col>Class</th></tr>\n",
       "\t<tr><th scope=col>&lt;dbl&gt;</th><th scope=col>&lt;dbl&gt;</th><th scope=col>&lt;dbl&gt;</th><th scope=col>&lt;dbl&gt;</th><th scope=col>&lt;dbl&gt;</th><th scope=col>&lt;dbl&gt;</th><th scope=col>&lt;dbl&gt;</th><th scope=col>&lt;dbl&gt;</th><th scope=col>&lt;dbl&gt;</th></tr>\n",
       "</thead>\n",
       "<tbody>\n",
       "\t<tr><td>140.5625</td><td>55.68378</td><td>-0.2345714</td><td>-0.6996484</td><td>3.199833</td><td>19.11043</td><td> 7.975532</td><td> 74.24222</td><td>0</td></tr>\n",
       "\t<tr><td>102.5078</td><td>58.88243</td><td> 0.4653182</td><td>-0.5150879</td><td>1.677258</td><td>14.86015</td><td>10.576487</td><td>127.39358</td><td>0</td></tr>\n",
       "\t<tr><td>103.0156</td><td>39.34165</td><td> 0.3233284</td><td> 1.0511644</td><td>3.121237</td><td>21.74467</td><td> 7.735822</td><td> 63.17191</td><td>0</td></tr>\n",
       "</tbody>\n",
       "</table>\n"
      ],
      "text/latex": [
       "A spec\\_tbl\\_df: 3 × 9\n",
       "\\begin{tabular}{lllllllll}\n",
       " Mean\\_IP & SD\\_IP & EK\\_IP & SKW\\_IP & Mean\\_DMSNR & SD\\_DMSNR & EK\\_DMSNR & SKW\\_DMSNR & Class\\\\\n",
       " <dbl> & <dbl> & <dbl> & <dbl> & <dbl> & <dbl> & <dbl> & <dbl> & <dbl>\\\\\n",
       "\\hline\n",
       "\t 140.5625 & 55.68378 & -0.2345714 & -0.6996484 & 3.199833 & 19.11043 &  7.975532 &  74.24222 & 0\\\\\n",
       "\t 102.5078 & 58.88243 &  0.4653182 & -0.5150879 & 1.677258 & 14.86015 & 10.576487 & 127.39358 & 0\\\\\n",
       "\t 103.0156 & 39.34165 &  0.3233284 &  1.0511644 & 3.121237 & 21.74467 &  7.735822 &  63.17191 & 0\\\\\n",
       "\\end{tabular}\n"
      ],
      "text/markdown": [
       "\n",
       "A spec_tbl_df: 3 × 9\n",
       "\n",
       "| Mean_IP &lt;dbl&gt; | SD_IP &lt;dbl&gt; | EK_IP &lt;dbl&gt; | SKW_IP &lt;dbl&gt; | Mean_DMSNR &lt;dbl&gt; | SD_DMSNR &lt;dbl&gt; | EK_DMSNR &lt;dbl&gt; | SKW_DMSNR &lt;dbl&gt; | Class &lt;dbl&gt; |\n",
       "|---|---|---|---|---|---|---|---|---|\n",
       "| 140.5625 | 55.68378 | -0.2345714 | -0.6996484 | 3.199833 | 19.11043 |  7.975532 |  74.24222 | 0 |\n",
       "| 102.5078 | 58.88243 |  0.4653182 | -0.5150879 | 1.677258 | 14.86015 | 10.576487 | 127.39358 | 0 |\n",
       "| 103.0156 | 39.34165 |  0.3233284 |  1.0511644 | 3.121237 | 21.74467 |  7.735822 |  63.17191 | 0 |\n",
       "\n"
      ],
      "text/plain": [
       "  Mean_IP  SD_IP    EK_IP      SKW_IP     Mean_DMSNR SD_DMSNR EK_DMSNR \n",
       "1 140.5625 55.68378 -0.2345714 -0.6996484 3.199833   19.11043  7.975532\n",
       "2 102.5078 58.88243  0.4653182 -0.5150879 1.677258   14.86015 10.576487\n",
       "3 103.0156 39.34165  0.3233284  1.0511644 3.121237   21.74467  7.735822\n",
       "  SKW_DMSNR Class\n",
       "1  74.24222 0    \n",
       "2 127.39358 0    \n",
       "3  63.17191 0    "
      ]
     },
     "metadata": {},
     "output_type": "display_data"
    }
   ],
   "source": [
    "slice(htru2_tbl, 1:3)\n"
   ]
  },
  {
   "cell_type": "code",
   "execution_count": 99,
   "id": "987b021e",
   "metadata": {
    "vscode": {
     "languageId": "r"
    }
   },
   "outputs": [
    {
     "data": {
      "text/html": [
       "<table class=\"dataframe\">\n",
       "<caption>A tibble: 3 × 2</caption>\n",
       "<thead>\n",
       "\t<tr><th scope=col>Mean_IP</th><th scope=col>Class</th></tr>\n",
       "\t<tr><th scope=col>&lt;dbl&gt;</th><th scope=col>&lt;dbl&gt;</th></tr>\n",
       "</thead>\n",
       "<tbody>\n",
       "\t<tr><td>140.5625</td><td>0</td></tr>\n",
       "\t<tr><td>102.5078</td><td>0</td></tr>\n",
       "\t<tr><td>103.0156</td><td>0</td></tr>\n",
       "</tbody>\n",
       "</table>\n"
      ],
      "text/latex": [
       "A tibble: 3 × 2\n",
       "\\begin{tabular}{ll}\n",
       " Mean\\_IP & Class\\\\\n",
       " <dbl> & <dbl>\\\\\n",
       "\\hline\n",
       "\t 140.5625 & 0\\\\\n",
       "\t 102.5078 & 0\\\\\n",
       "\t 103.0156 & 0\\\\\n",
       "\\end{tabular}\n"
      ],
      "text/markdown": [
       "\n",
       "A tibble: 3 × 2\n",
       "\n",
       "| Mean_IP &lt;dbl&gt; | Class &lt;dbl&gt; |\n",
       "|---|---|\n",
       "| 140.5625 | 0 |\n",
       "| 102.5078 | 0 |\n",
       "| 103.0156 | 0 |\n",
       "\n"
      ],
      "text/plain": [
       "  Mean_IP  Class\n",
       "1 140.5625 0    \n",
       "2 102.5078 0    \n",
       "3 103.0156 0    "
      ]
     },
     "metadata": {},
     "output_type": "display_data"
    }
   ],
   "source": [
    "slice(select(htru2_tbl, Mean_IP, Class), c(1:3))\n"
   ]
  },
  {
   "cell_type": "code",
   "execution_count": 100,
   "id": "25317615",
   "metadata": {
    "vscode": {
     "languageId": "r"
    }
   },
   "outputs": [
    {
     "data": {
      "text/html": [
       "<table class=\"dataframe\">\n",
       "<caption>A tibble: 5 × 2</caption>\n",
       "<thead>\n",
       "\t<tr><th scope=col>Mean_IP</th><th scope=col>SD_IP</th></tr>\n",
       "\t<tr><th scope=col>&lt;dbl&gt;</th><th scope=col>&lt;dbl&gt;</th></tr>\n",
       "</thead>\n",
       "<tbody>\n",
       "\t<tr><td>140.5625</td><td>55.68378</td></tr>\n",
       "\t<tr><td>142.0781</td><td>45.28807</td></tr>\n",
       "\t<tr><td>142.0547</td><td>53.87316</td></tr>\n",
       "\t<tr><td>147.8359</td><td>53.62264</td></tr>\n",
       "\t<tr><td>141.9688</td><td>50.47090</td></tr>\n",
       "</tbody>\n",
       "</table>\n"
      ],
      "text/latex": [
       "A tibble: 5 × 2\n",
       "\\begin{tabular}{ll}\n",
       " Mean\\_IP & SD\\_IP\\\\\n",
       " <dbl> & <dbl>\\\\\n",
       "\\hline\n",
       "\t 140.5625 & 55.68378\\\\\n",
       "\t 142.0781 & 45.28807\\\\\n",
       "\t 142.0547 & 53.87316\\\\\n",
       "\t 147.8359 & 53.62264\\\\\n",
       "\t 141.9688 & 50.47090\\\\\n",
       "\\end{tabular}\n"
      ],
      "text/markdown": [
       "\n",
       "A tibble: 5 × 2\n",
       "\n",
       "| Mean_IP &lt;dbl&gt; | SD_IP &lt;dbl&gt; |\n",
       "|---|---|\n",
       "| 140.5625 | 55.68378 |\n",
       "| 142.0781 | 45.28807 |\n",
       "| 142.0547 | 53.87316 |\n",
       "| 147.8359 | 53.62264 |\n",
       "| 141.9688 | 50.47090 |\n",
       "\n"
      ],
      "text/plain": [
       "  Mean_IP  SD_IP   \n",
       "1 140.5625 55.68378\n",
       "2 142.0781 45.28807\n",
       "3 142.0547 53.87316\n",
       "4 147.8359 53.62264\n",
       "5 141.9688 50.47090"
      ]
     },
     "metadata": {},
     "output_type": "display_data"
    }
   ],
   "source": [
    "slice(select(filter(htru2_tbl, Mean_IP > 140), Mean_IP, SD_IP), 1:5)\n"
   ]
  },
  {
   "cell_type": "code",
   "execution_count": 101,
   "id": "9d836ee8",
   "metadata": {
    "vscode": {
     "languageId": "r"
    }
   },
   "outputs": [
    {
     "data": {
      "text/html": [
       "<table class=\"dataframe\">\n",
       "<caption>A tibble: 1 × 2</caption>\n",
       "<thead>\n",
       "\t<tr><th scope=col>Mean_IP</th><th scope=col>SD_IP</th></tr>\n",
       "\t<tr><th scope=col>&lt;dbl&gt;</th><th scope=col>&lt;dbl&gt;</th></tr>\n",
       "</thead>\n",
       "<tbody>\n",
       "\t<tr><td>140.5625</td><td>55.68378</td></tr>\n",
       "</tbody>\n",
       "</table>\n"
      ],
      "text/latex": [
       "A tibble: 1 × 2\n",
       "\\begin{tabular}{ll}\n",
       " Mean\\_IP & SD\\_IP\\\\\n",
       " <dbl> & <dbl>\\\\\n",
       "\\hline\n",
       "\t 140.5625 & 55.68378\\\\\n",
       "\\end{tabular}\n"
      ],
      "text/markdown": [
       "\n",
       "A tibble: 1 × 2\n",
       "\n",
       "| Mean_IP &lt;dbl&gt; | SD_IP &lt;dbl&gt; |\n",
       "|---|---|\n",
       "| 140.5625 | 55.68378 |\n",
       "\n"
      ],
      "text/plain": [
       "  Mean_IP  SD_IP   \n",
       "1 140.5625 55.68378"
      ]
     },
     "metadata": {},
     "output_type": "display_data"
    }
   ],
   "source": [
    "filter(select(slice(htru2_tbl, 1:5), Mean_IP, SD_IP), Mean_IP > 140)\n"
   ]
  },
  {
   "cell_type": "markdown",
   "id": "ae73ba92",
   "metadata": {},
   "source": [
    "# Packages\n"
   ]
  },
  {
   "cell_type": "code",
   "execution_count": 102,
   "id": "ab28a7c3",
   "metadata": {
    "vscode": {
     "languageId": "r"
    }
   },
   "outputs": [
    {
     "data": {
      "text/html": [
       "<style>\n",
       ".list-inline {list-style: none; margin:0; padding: 0}\n",
       ".list-inline>li {display: inline-block}\n",
       ".list-inline>li:not(:last-child)::after {content: \"\\00b7\"; padding: 0 .5ex}\n",
       "</style>\n",
       "<ol class=list-inline><li>'.GlobalEnv'</li><li>'package:forcats'</li><li>'package:stringr'</li><li>'package:dplyr'</li><li>'package:purrr'</li><li>'package:readr'</li><li>'package:tidyr'</li><li>'package:tibble'</li><li>'package:ggplot2'</li><li>'package:tidyverse'</li><li>'jupyter:irkernel'</li><li>'package:stats'</li><li>'package:graphics'</li><li>'package:grDevices'</li><li>'package:utils'</li><li>'package:datasets'</li><li>'package:methods'</li><li>'Autoloads'</li><li>'package:base'</li></ol>\n"
      ],
      "text/latex": [
       "\\begin{enumerate*}\n",
       "\\item '.GlobalEnv'\n",
       "\\item 'package:forcats'\n",
       "\\item 'package:stringr'\n",
       "\\item 'package:dplyr'\n",
       "\\item 'package:purrr'\n",
       "\\item 'package:readr'\n",
       "\\item 'package:tidyr'\n",
       "\\item 'package:tibble'\n",
       "\\item 'package:ggplot2'\n",
       "\\item 'package:tidyverse'\n",
       "\\item 'jupyter:irkernel'\n",
       "\\item 'package:stats'\n",
       "\\item 'package:graphics'\n",
       "\\item 'package:grDevices'\n",
       "\\item 'package:utils'\n",
       "\\item 'package:datasets'\n",
       "\\item 'package:methods'\n",
       "\\item 'Autoloads'\n",
       "\\item 'package:base'\n",
       "\\end{enumerate*}\n"
      ],
      "text/markdown": [
       "1. '.GlobalEnv'\n",
       "2. 'package:forcats'\n",
       "3. 'package:stringr'\n",
       "4. 'package:dplyr'\n",
       "5. 'package:purrr'\n",
       "6. 'package:readr'\n",
       "7. 'package:tidyr'\n",
       "8. 'package:tibble'\n",
       "9. 'package:ggplot2'\n",
       "10. 'package:tidyverse'\n",
       "11. 'jupyter:irkernel'\n",
       "12. 'package:stats'\n",
       "13. 'package:graphics'\n",
       "14. 'package:grDevices'\n",
       "15. 'package:utils'\n",
       "16. 'package:datasets'\n",
       "17. 'package:methods'\n",
       "18. 'Autoloads'\n",
       "19. 'package:base'\n",
       "\n",
       "\n"
      ],
      "text/plain": [
       " [1] \".GlobalEnv\"        \"package:forcats\"   \"package:stringr\"  \n",
       " [4] \"package:dplyr\"     \"package:purrr\"     \"package:readr\"    \n",
       " [7] \"package:tidyr\"     \"package:tibble\"    \"package:ggplot2\"  \n",
       "[10] \"package:tidyverse\" \"jupyter:irkernel\"  \"package:stats\"    \n",
       "[13] \"package:graphics\"  \"package:grDevices\" \"package:utils\"    \n",
       "[16] \"package:datasets\"  \"package:methods\"   \"Autoloads\"        \n",
       "[19] \"package:base\"     "
      ]
     },
     "metadata": {},
     "output_type": "display_data"
    }
   ],
   "source": [
    "search()\n"
   ]
  },
  {
   "cell_type": "code",
   "execution_count": 103,
   "id": "fcd9ac84",
   "metadata": {
    "vscode": {
     "languageId": "r"
    }
   },
   "outputs": [],
   "source": [
    "Lengths_B <- c(51, 53.5, 56, 66, 68, 72.5, 79, 80, 81, 91, 96.8, 101, 110)\n",
    "Lengths_C <- c(52.5, 49.5, 60, 65, 67, 74, 78, 79, 83, 90)\n"
   ]
  },
  {
   "cell_type": "code",
   "execution_count": 104,
   "id": "333e9bc9",
   "metadata": {
    "vscode": {
     "languageId": "r"
    }
   },
   "outputs": [],
   "source": [
    "Dates_A <- c(\n",
    "    \"2009-05-02\", \"2009-05-11\", \"2009-07-07\", \"2009-09-09\",\n",
    "    \"2009-11-16\", \"2010-02-16\", \"2010-05-03\", \"2010-11-09\",\n",
    "    \"2011-05-04\", \"2012-05-03\", \"2013-05-18\", \"2014-07-30\",\n",
    "    \"2015-09-30\", \"2016-06-08\", \"2017-08-21\", \"2018-09-19\"\n",
    ")\n"
   ]
  },
  {
   "cell_type": "code",
   "execution_count": 105,
   "id": "12268e88",
   "metadata": {
    "vscode": {
     "languageId": "r"
    }
   },
   "outputs": [
    {
     "data": {
      "text/html": [
       "'character'"
      ],
      "text/latex": [
       "'character'"
      ],
      "text/markdown": [
       "'character'"
      ],
      "text/plain": [
       "[1] \"character\""
      ]
     },
     "metadata": {},
     "output_type": "display_data"
    }
   ],
   "source": [
    "mode(Dates_A)\n"
   ]
  },
  {
   "cell_type": "code",
   "execution_count": 106,
   "id": "c7a1044f",
   "metadata": {
    "vscode": {
     "languageId": "r"
    }
   },
   "outputs": [
    {
     "data": {
      "text/html": [
       "'character'"
      ],
      "text/latex": [
       "'character'"
      ],
      "text/markdown": [
       "'character'"
      ],
      "text/plain": [
       "[1] \"character\""
      ]
     },
     "metadata": {},
     "output_type": "display_data"
    }
   ],
   "source": [
    "class(Dates_A)\n"
   ]
  },
  {
   "cell_type": "code",
   "execution_count": 107,
   "id": "8ff87e88",
   "metadata": {
    "vscode": {
     "languageId": "r"
    }
   },
   "outputs": [],
   "source": [
    "Dates_A <- as.Date(Dates_A)\n"
   ]
  },
  {
   "cell_type": "code",
   "execution_count": 108,
   "id": "681f0934",
   "metadata": {
    "vscode": {
     "languageId": "r"
    }
   },
   "outputs": [
    {
     "data": {
      "text/html": [
       "'numeric'"
      ],
      "text/latex": [
       "'numeric'"
      ],
      "text/markdown": [
       "'numeric'"
      ],
      "text/plain": [
       "[1] \"numeric\""
      ]
     },
     "metadata": {},
     "output_type": "display_data"
    }
   ],
   "source": [
    "mode(Dates_A)\n"
   ]
  },
  {
   "cell_type": "code",
   "execution_count": 109,
   "id": "2b403b84",
   "metadata": {
    "vscode": {
     "languageId": "r"
    }
   },
   "outputs": [
    {
     "data": {
      "text/html": [
       "'Date'"
      ],
      "text/latex": [
       "'Date'"
      ],
      "text/markdown": [
       "'Date'"
      ],
      "text/plain": [
       "[1] \"Date\""
      ]
     },
     "metadata": {},
     "output_type": "display_data"
    }
   ],
   "source": [
    "class(Dates_A)\n"
   ]
  },
  {
   "cell_type": "code",
   "execution_count": 110,
   "id": "951a04d0",
   "metadata": {
    "vscode": {
     "languageId": "r"
    }
   },
   "outputs": [
    {
     "data": {
      "text/html": [
       "<style>\n",
       ".list-inline {list-style: none; margin:0; padding: 0}\n",
       ".list-inline>li {display: inline-block}\n",
       ".list-inline>li:not(:last-child)::after {content: \"\\00b7\"; padding: 0 .5ex}\n",
       "</style>\n",
       "<ol class=list-inline><li><time datetime=\"2009-05-02\">2009-05-02</time></li><li><time datetime=\"2009-05-11\">2009-05-11</time></li><li><time datetime=\"2009-07-07\">2009-07-07</time></li><li><time datetime=\"2009-09-09\">2009-09-09</time></li><li><time datetime=\"2009-11-16\">2009-11-16</time></li><li><time datetime=\"2010-02-16\">2010-02-16</time></li></ol>\n"
      ],
      "text/latex": [
       "\\begin{enumerate*}\n",
       "\\item 2009-05-02\n",
       "\\item 2009-05-11\n",
       "\\item 2009-07-07\n",
       "\\item 2009-09-09\n",
       "\\item 2009-11-16\n",
       "\\item 2010-02-16\n",
       "\\end{enumerate*}\n"
      ],
      "text/markdown": [
       "1. 2009-05-02\n",
       "2. 2009-05-11\n",
       "3. 2009-07-07\n",
       "4. 2009-09-09\n",
       "5. 2009-11-16\n",
       "6. 2010-02-16\n",
       "\n",
       "\n"
      ],
      "text/plain": [
       "[1] \"2009-05-02\" \"2009-05-11\" \"2009-07-07\" \"2009-09-09\" \"2009-11-16\"\n",
       "[6] \"2010-02-16\""
      ]
     },
     "metadata": {},
     "output_type": "display_data"
    }
   ],
   "source": [
    "head(Dates_A)\n"
   ]
  },
  {
   "cell_type": "code",
   "execution_count": 111,
   "id": "cd0142a5",
   "metadata": {
    "vscode": {
     "languageId": "r"
    }
   },
   "outputs": [
    {
     "data": {
      "text/html": [
       "<style>\n",
       ".list-inline {list-style: none; margin:0; padding: 0}\n",
       ".list-inline>li {display: inline-block}\n",
       ".list-inline>li:not(:last-child)::after {content: \"\\00b7\"; padding: 0 .5ex}\n",
       "</style>\n",
       "<ol class=list-inline><li>14366</li><li>14375</li><li>14432</li><li>14496</li><li>14564</li><li>14656</li></ol>\n"
      ],
      "text/latex": [
       "\\begin{enumerate*}\n",
       "\\item 14366\n",
       "\\item 14375\n",
       "\\item 14432\n",
       "\\item 14496\n",
       "\\item 14564\n",
       "\\item 14656\n",
       "\\end{enumerate*}\n"
      ],
      "text/markdown": [
       "1. 14366\n",
       "2. 14375\n",
       "3. 14432\n",
       "4. 14496\n",
       "5. 14564\n",
       "6. 14656\n",
       "\n",
       "\n"
      ],
      "text/plain": [
       "[1] 14366 14375 14432 14496 14564 14656"
      ]
     },
     "metadata": {},
     "output_type": "display_data"
    }
   ],
   "source": [
    "head(as.numeric(Dates_A)) # Total amount of days since 1/1/1970\n"
   ]
  },
  {
   "cell_type": "code",
   "execution_count": 112,
   "id": "52477371",
   "metadata": {
    "vscode": {
     "languageId": "r"
    }
   },
   "outputs": [],
   "source": [
    "Dates_B <- as.Date(c(\n",
    "    \"2012-08-02\", \"2012-08-15\", \"2012-10-31\", \"2012-12-06\",\n",
    "    \"2013-02-18\", \"2013-05-13\", \"2013-09-05\", \"2014-02-17\",\n",
    "    \"2014-07-30\", \"2015-09-30\", \"2016-08-04\", \"2017-08-21\",\n",
    "    \"2018-09-19\"\n",
    "))\n",
    "Dates_C <- as.Date(c(\n",
    "    \"2016-02-04\", \"2016-02-18\", \"2016-04-11\", \"2016-06-08\",\n",
    "    \"2016-08-04\", \"2016-11-17\", \"2017-03-02\", \"2017-08-21\",\n",
    "    \"2018-02-20\", \"2019-02-13\"\n",
    "))\n"
   ]
  },
  {
   "cell_type": "code",
   "execution_count": 113,
   "id": "0a481933",
   "metadata": {
    "vscode": {
     "languageId": "r"
    }
   },
   "outputs": [
    {
     "data": {
      "text/html": [
       "<table class=\"dataframe\">\n",
       "<caption>A data.frame: 6 × 3</caption>\n",
       "<thead>\n",
       "\t<tr><th></th><th scope=col>Kid</th><th scope=col>Heights</th><th scope=col>Dates</th></tr>\n",
       "\t<tr><th></th><th scope=col>&lt;chr&gt;</th><th scope=col>&lt;dbl&gt;</th><th scope=col>&lt;date&gt;</th></tr>\n",
       "</thead>\n",
       "<tbody>\n",
       "\t<tr><th scope=row>1</th><td>A</td><td>52</td><td>2009-05-02</td></tr>\n",
       "\t<tr><th scope=row>2</th><td>A</td><td>51</td><td>2009-05-11</td></tr>\n",
       "\t<tr><th scope=row>3</th><td>A</td><td>60</td><td>2009-07-07</td></tr>\n",
       "\t<tr><th scope=row>4</th><td>A</td><td>64</td><td>2009-09-09</td></tr>\n",
       "\t<tr><th scope=row>5</th><td>A</td><td>69</td><td>2009-11-16</td></tr>\n",
       "\t<tr><th scope=row>6</th><td>A</td><td>74</td><td>2010-02-16</td></tr>\n",
       "</tbody>\n",
       "</table>\n"
      ],
      "text/latex": [
       "A data.frame: 6 × 3\n",
       "\\begin{tabular}{r|lll}\n",
       "  & Kid & Heights & Dates\\\\\n",
       "  & <chr> & <dbl> & <date>\\\\\n",
       "\\hline\n",
       "\t1 & A & 52 & 2009-05-02\\\\\n",
       "\t2 & A & 51 & 2009-05-11\\\\\n",
       "\t3 & A & 60 & 2009-07-07\\\\\n",
       "\t4 & A & 64 & 2009-09-09\\\\\n",
       "\t5 & A & 69 & 2009-11-16\\\\\n",
       "\t6 & A & 74 & 2010-02-16\\\\\n",
       "\\end{tabular}\n"
      ],
      "text/markdown": [
       "\n",
       "A data.frame: 6 × 3\n",
       "\n",
       "| <!--/--> | Kid &lt;chr&gt; | Heights &lt;dbl&gt; | Dates &lt;date&gt; |\n",
       "|---|---|---|---|\n",
       "| 1 | A | 52 | 2009-05-02 |\n",
       "| 2 | A | 51 | 2009-05-11 |\n",
       "| 3 | A | 60 | 2009-07-07 |\n",
       "| 4 | A | 64 | 2009-09-09 |\n",
       "| 5 | A | 69 | 2009-11-16 |\n",
       "| 6 | A | 74 | 2010-02-16 |\n",
       "\n"
      ],
      "text/plain": [
       "  Kid Heights Dates     \n",
       "1 A   52      2009-05-02\n",
       "2 A   51      2009-05-11\n",
       "3 A   60      2009-07-07\n",
       "4 A   64      2009-09-09\n",
       "5 A   69      2009-11-16\n",
       "6 A   74      2010-02-16"
      ]
     },
     "metadata": {},
     "output_type": "display_data"
    }
   ],
   "source": [
    "kids_heights_df <- data.frame(\n",
    "    Kid = c(\n",
    "        rep(\"A\", length(Lengths_A)), rep(\"B\", length(Lengths_B)), rep(\"C\", length(Lengths_C))\n",
    "    ),\n",
    "    Heights = c(Lengths_A, Lengths_B, Lengths_C),\n",
    "    Dates = c(Dates_A, Dates_B, Dates_C)\n",
    ")\n",
    "head(kids_heights_df)\n"
   ]
  },
  {
   "cell_type": "code",
   "execution_count": 114,
   "id": "7c186da0",
   "metadata": {
    "vscode": {
     "languageId": "r"
    }
   },
   "outputs": [
    {
     "data": {
      "text/html": [
       "<table class=\"dataframe\">\n",
       "<caption>A tibble: 6 × 3</caption>\n",
       "<thead>\n",
       "\t<tr><th scope=col>Kid</th><th scope=col>Heights</th><th scope=col>Dates</th></tr>\n",
       "\t<tr><th scope=col>&lt;chr&gt;</th><th scope=col>&lt;dbl&gt;</th><th scope=col>&lt;date&gt;</th></tr>\n",
       "</thead>\n",
       "<tbody>\n",
       "\t<tr><td>A</td><td>52</td><td>2009-05-02</td></tr>\n",
       "\t<tr><td>A</td><td>51</td><td>2009-05-11</td></tr>\n",
       "\t<tr><td>A</td><td>60</td><td>2009-07-07</td></tr>\n",
       "\t<tr><td>A</td><td>64</td><td>2009-09-09</td></tr>\n",
       "\t<tr><td>A</td><td>69</td><td>2009-11-16</td></tr>\n",
       "\t<tr><td>A</td><td>74</td><td>2010-02-16</td></tr>\n",
       "</tbody>\n",
       "</table>\n"
      ],
      "text/latex": [
       "A tibble: 6 × 3\n",
       "\\begin{tabular}{lll}\n",
       " Kid & Heights & Dates\\\\\n",
       " <chr> & <dbl> & <date>\\\\\n",
       "\\hline\n",
       "\t A & 52 & 2009-05-02\\\\\n",
       "\t A & 51 & 2009-05-11\\\\\n",
       "\t A & 60 & 2009-07-07\\\\\n",
       "\t A & 64 & 2009-09-09\\\\\n",
       "\t A & 69 & 2009-11-16\\\\\n",
       "\t A & 74 & 2010-02-16\\\\\n",
       "\\end{tabular}\n"
      ],
      "text/markdown": [
       "\n",
       "A tibble: 6 × 3\n",
       "\n",
       "| Kid &lt;chr&gt; | Heights &lt;dbl&gt; | Dates &lt;date&gt; |\n",
       "|---|---|---|\n",
       "| A | 52 | 2009-05-02 |\n",
       "| A | 51 | 2009-05-11 |\n",
       "| A | 60 | 2009-07-07 |\n",
       "| A | 64 | 2009-09-09 |\n",
       "| A | 69 | 2009-11-16 |\n",
       "| A | 74 | 2010-02-16 |\n",
       "\n"
      ],
      "text/plain": [
       "  Kid Heights Dates     \n",
       "1 A   52      2009-05-02\n",
       "2 A   51      2009-05-11\n",
       "3 A   60      2009-07-07\n",
       "4 A   64      2009-09-09\n",
       "5 A   69      2009-11-16\n",
       "6 A   74      2010-02-16"
      ]
     },
     "metadata": {},
     "output_type": "display_data"
    }
   ],
   "source": [
    "kids_heights_tbl <- tibble(\n",
    "    Kid = c(rep(\"A\", length(Lengths_A)), rep(\"B\", length(Lengths_B)), rep(\"C\", length(Lengths_C))),\n",
    "    Heights = c(Lengths_A, Lengths_B, Lengths_C),\n",
    "    Dates = c(Dates_A, Dates_B, Dates_C)\n",
    ")\n",
    "head(kids_heights_tbl)\n"
   ]
  },
  {
   "cell_type": "code",
   "execution_count": 115,
   "id": "a1a20bdf",
   "metadata": {
    "vscode": {
     "languageId": "r"
    }
   },
   "outputs": [
    {
     "data": {
      "text/html": [
       "39"
      ],
      "text/latex": [
       "39"
      ],
      "text/markdown": [
       "39"
      ],
      "text/plain": [
       "[1] 39"
      ]
     },
     "metadata": {},
     "output_type": "display_data"
    },
    {
     "data": {
      "text/html": [
       "39"
      ],
      "text/latex": [
       "39"
      ],
      "text/markdown": [
       "39"
      ],
      "text/plain": [
       "[1] 39"
      ]
     },
     "metadata": {},
     "output_type": "display_data"
    }
   ],
   "source": [
    "length(Lengths_A) + length(Lengths_B) + length(Lengths_C)\n",
    "length(Dates_A) + length(Dates_B) + length(Dates_C)\n"
   ]
  },
  {
   "cell_type": "code",
   "execution_count": 116,
   "id": "81df6b60",
   "metadata": {
    "vscode": {
     "languageId": "r"
    }
   },
   "outputs": [
    {
     "name": "stdout",
     "output_type": "stream",
     "text": [
      "tibble [39 × 3] (S3: tbl_df/tbl/data.frame)\n",
      " $ Kid    : chr [1:39] \"A\" \"A\" \"A\" \"A\" ...\n",
      " $ Heights: num [1:39] 52 51 60 64 69 74 78 84 86 96 ...\n",
      " $ Dates  : Date[1:39], format: \"2009-05-02\" \"2009-05-11\" ...\n"
     ]
    }
   ],
   "source": [
    "str(kids_heights_tbl)\n"
   ]
  },
  {
   "cell_type": "code",
   "execution_count": 117,
   "id": "b719a465",
   "metadata": {
    "vscode": {
     "languageId": "r"
    }
   },
   "outputs": [],
   "source": [
    "kids_heights_tlb_grp <- group_by(kids_heights_tbl, Kid)\n"
   ]
  },
  {
   "cell_type": "code",
   "execution_count": 118,
   "id": "4c2cf5dd",
   "metadata": {
    "vscode": {
     "languageId": "r"
    }
   },
   "outputs": [
    {
     "name": "stdout",
     "output_type": "stream",
     "text": [
      "grouped_df [39 × 3] (S3: grouped_df/tbl_df/tbl/data.frame)\n",
      " $ Kid    : chr [1:39] \"A\" \"A\" \"A\" \"A\" ...\n",
      " $ Heights: num [1:39] 52 51 60 64 69 74 78 84 86 96 ...\n",
      " $ Dates  : Date[1:39], format: \"2009-05-02\" \"2009-05-11\" ...\n",
      " - attr(*, \"groups\")= tibble [3 × 2] (S3: tbl_df/tbl/data.frame)\n",
      "  ..$ Kid  : chr [1:3] \"A\" \"B\" \"C\"\n",
      "  ..$ .rows: list<int> [1:3] \n",
      "  .. ..$ : int [1:16] 1 2 3 4 5 6 7 8 9 10 ...\n",
      "  .. ..$ : int [1:13] 17 18 19 20 21 22 23 24 25 26 ...\n",
      "  .. ..$ : int [1:10] 30 31 32 33 34 35 36 37 38 39\n",
      "  .. ..@ ptype: int(0) \n",
      "  ..- attr(*, \".drop\")= logi TRUE\n"
     ]
    }
   ],
   "source": [
    "str(kids_heights_tlb_grp)\n"
   ]
  },
  {
   "cell_type": "code",
   "execution_count": 119,
   "id": "d3a70216",
   "metadata": {
    "vscode": {
     "languageId": "r"
    }
   },
   "outputs": [],
   "source": [
    "# Adding a column with mutate\n",
    "kids_heights_tlb_grp <- mutate(kids_heights_tlb_grp, Birth = min(Dates), Age = Dates - min(Dates))\n"
   ]
  },
  {
   "cell_type": "code",
   "execution_count": 120,
   "id": "79efa968",
   "metadata": {
    "vscode": {
     "languageId": "r"
    }
   },
   "outputs": [
    {
     "data": {
      "text/html": [
       "<table class=\"dataframe\">\n",
       "<caption>A grouped_df: 6 × 5</caption>\n",
       "<thead>\n",
       "\t<tr><th scope=col>Kid</th><th scope=col>Heights</th><th scope=col>Dates</th><th scope=col>Birth</th><th scope=col>Age</th></tr>\n",
       "\t<tr><th scope=col>&lt;chr&gt;</th><th scope=col>&lt;dbl&gt;</th><th scope=col>&lt;date&gt;</th><th scope=col>&lt;date&gt;</th><th scope=col>&lt;drtn&gt;</th></tr>\n",
       "</thead>\n",
       "<tbody>\n",
       "\t<tr><td>A</td><td>52</td><td>2009-05-02</td><td>2009-05-02</td><td>  0 days</td></tr>\n",
       "\t<tr><td>A</td><td>51</td><td>2009-05-11</td><td>2009-05-02</td><td>  9 days</td></tr>\n",
       "\t<tr><td>A</td><td>60</td><td>2009-07-07</td><td>2009-05-02</td><td> 66 days</td></tr>\n",
       "\t<tr><td>A</td><td>64</td><td>2009-09-09</td><td>2009-05-02</td><td>130 days</td></tr>\n",
       "\t<tr><td>A</td><td>69</td><td>2009-11-16</td><td>2009-05-02</td><td>198 days</td></tr>\n",
       "\t<tr><td>A</td><td>74</td><td>2010-02-16</td><td>2009-05-02</td><td>290 days</td></tr>\n",
       "</tbody>\n",
       "</table>\n"
      ],
      "text/latex": [
       "A grouped\\_df: 6 × 5\n",
       "\\begin{tabular}{lllll}\n",
       " Kid & Heights & Dates & Birth & Age\\\\\n",
       " <chr> & <dbl> & <date> & <date> & <drtn>\\\\\n",
       "\\hline\n",
       "\t A & 52 & 2009-05-02 & 2009-05-02 &   0 days\\\\\n",
       "\t A & 51 & 2009-05-11 & 2009-05-02 &   9 days\\\\\n",
       "\t A & 60 & 2009-07-07 & 2009-05-02 &  66 days\\\\\n",
       "\t A & 64 & 2009-09-09 & 2009-05-02 & 130 days\\\\\n",
       "\t A & 69 & 2009-11-16 & 2009-05-02 & 198 days\\\\\n",
       "\t A & 74 & 2010-02-16 & 2009-05-02 & 290 days\\\\\n",
       "\\end{tabular}\n"
      ],
      "text/markdown": [
       "\n",
       "A grouped_df: 6 × 5\n",
       "\n",
       "| Kid &lt;chr&gt; | Heights &lt;dbl&gt; | Dates &lt;date&gt; | Birth &lt;date&gt; | Age &lt;drtn&gt; |\n",
       "|---|---|---|---|---|\n",
       "| A | 52 | 2009-05-02 | 2009-05-02 |   0 days |\n",
       "| A | 51 | 2009-05-11 | 2009-05-02 |   9 days |\n",
       "| A | 60 | 2009-07-07 | 2009-05-02 |  66 days |\n",
       "| A | 64 | 2009-09-09 | 2009-05-02 | 130 days |\n",
       "| A | 69 | 2009-11-16 | 2009-05-02 | 198 days |\n",
       "| A | 74 | 2010-02-16 | 2009-05-02 | 290 days |\n",
       "\n"
      ],
      "text/plain": [
       "  Kid Heights Dates      Birth      Age     \n",
       "1 A   52      2009-05-02 2009-05-02   0 days\n",
       "2 A   51      2009-05-11 2009-05-02   9 days\n",
       "3 A   60      2009-07-07 2009-05-02  66 days\n",
       "4 A   64      2009-09-09 2009-05-02 130 days\n",
       "5 A   69      2009-11-16 2009-05-02 198 days\n",
       "6 A   74      2010-02-16 2009-05-02 290 days"
      ]
     },
     "metadata": {},
     "output_type": "display_data"
    }
   ],
   "source": [
    "head(kids_heights_tlb_grp)\n"
   ]
  },
  {
   "cell_type": "code",
   "execution_count": 121,
   "id": "367cfeec",
   "metadata": {
    "vscode": {
     "languageId": "r"
    }
   },
   "outputs": [
    {
     "name": "stdout",
     "output_type": "stream",
     "text": [
      "grouped_df [10 × 5] (S3: grouped_df/tbl_df/tbl/data.frame)\n",
      " $ Kid    : chr [1:10] \"A\" \"A\" \"A\" \"A\" ...\n",
      " $ Heights: num [1:10] 52 51 60 64 69 74 78 84 86 96\n",
      " $ Dates  : Date[1:10], format: \"2009-05-02\" \"2009-05-11\" ...\n",
      " $ Birth  : Date[1:10], format: \"2009-05-02\" \"2009-05-02\" ...\n",
      " $ Age    : 'difftime' num [1:10] 0 9 66 130 ...\n",
      "  ..- attr(*, \"units\")= chr \"days\"\n",
      " - attr(*, \"groups\")= tibble [1 × 2] (S3: tbl_df/tbl/data.frame)\n",
      "  ..$ Kid  : chr \"A\"\n",
      "  ..$ .rows: list<int> [1:1] \n",
      "  .. ..$ : int [1:10] 1 2 3 4 5 6 7 8 9 10\n",
      "  .. ..@ ptype: int(0) \n",
      "  ..- attr(*, \".drop\")= logi TRUE\n"
     ]
    }
   ],
   "source": [
    "# magrittr package has a forward pipe operator: %>%\n",
    "# Making the code more readable\n",
    "\n",
    "kids_heights_tbl_grp <- kids_heights_tbl %>%\n",
    "    group_by(Kid) %>%\n",
    "    mutate(\n",
    "        Birth = min(Dates),\n",
    "        Age = Dates - min(Dates)\n",
    "    ) %>%\n",
    "    head(10)\n",
    "\n",
    "str(kids_heights_tbl_grp)\n"
   ]
  }
 ],
 "metadata": {
  "kernelspec": {
   "display_name": "R",
   "language": "R",
   "name": "ir"
  },
  "language_info": {
   "codemirror_mode": "r",
   "file_extension": ".r",
   "mimetype": "text/x-r-source",
   "name": "R",
   "pygments_lexer": "r",
   "version": "4.2.1"
  }
 },
 "nbformat": 4,
 "nbformat_minor": 5
}
